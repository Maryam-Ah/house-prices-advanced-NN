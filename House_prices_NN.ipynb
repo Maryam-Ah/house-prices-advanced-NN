{
  "nbformat": 4,
  "nbformat_minor": 0,
  "metadata": {
    "colab": {
      "name": "House_prices_Linear_Reg,_Decision_TreeReg,_RandomForesrReg,_SVR,_Ridge,Lasso,_Voting_Regressior.ipynb",
      "provenance": []
    },
    "kernelspec": {
      "name": "python3",
      "display_name": "Python 3"
    }
  },
  "cells": [
    {
      "cell_type": "markdown",
      "metadata": {
        "id": "71wdF5s_kgCP",
        "colab_type": "text"
      },
      "source": [
        "#1. Introduction"
      ]
    },
    {
      "cell_type": "markdown",
      "metadata": {
        "id": "7JKuixLGkdf9",
        "colab_type": "text"
      },
      "source": [
        "\n",
        "Housing price competition aims at predicting sale prices for the houses in ‘Ames city’ in Story County, Iowa, United States. The dataset is divided into two halves: testing and training (~50-50%). There are 80 variables in the training dataset. From my experience, there are two things for getting good prediction:"
      ]
    },
    {
      "cell_type": "markdown",
      "metadata": {
        "id": "z3rUjM1nkp-y",
        "colab_type": "text"
      },
      "source": [
        "### Data describtion:\n",
        "\n",
        "- MSSubClass: Identifies the type of dwelling involved in the sale.\n",
        "- MSZoning: Identifies the general zoning classification of the sale.\n",
        "- LotFrontage: Linear feet of street connected to property.\n",
        "- LotArea: Lot size in square feet.\n",
        "- Street: Type of road access to property.\n",
        "- Alley: Type of alley access to property.\n",
        "- LotShape: General shape of property.\n",
        "- LandContour: Flatness of the property.\n",
        "- Utilities: Type of utilities available.\n",
        "- LotConfig: Lot configuration.\n",
        "- LandSlope: Slope of property.\n",
        "- Neighborhood: Physical locations within Ames city limits.\n",
        "- Condition1: Proximity to various conditions.\n",
        "- Condition2: Proximity to various conditions (if more than one is present).\n",
        "- BldgType: Type of dwelling.\n",
        "- HouseStyle: Style of dwelling.\n",
        "- OverallQual: Rates the overall material and finish of the house.\n",
        "- OverallCond: Rates the overall condition of the house.\n",
        "- YearBuilt: Original construction date.\n",
        "- YearRemodAdd: Remodel date (same as construction date if no remodeling or additions).\n",
        "- RoofStyle: Type of roof.\n",
        "- RoofMatl: Roof material.\n",
        "- Exterior1st: Exterior covering on house.\n",
        "- Exterior2nd: Exterior covering on house (if more than one material).\n",
        "- MasVnrType: Masonry veneer type **(None - None)**.\n",
        "- MasVnrArea: Masonry veneer area in square feet.\n",
        "- ExterQual: Evaluates the quality of the material on the exterior/\n",
        "- ExterCond: Evaluates the present condition of the material on the exterior.\n",
        "- Foundation: Type of foundation.\n",
        "- BsmtQual: Evaluates the height of the basement **(NA - No Basement)**.\n",
        "- BsmtCond: Evaluates the general condition of the basement **(NA - No Basement)**.\n",
        "- BsmtExposure: Refers to walkout or garden level walls **(NA - No Basement)**.\n",
        "- BsmtFinType1: Rating of basement finished area **(NA - No Basement)**.\n",
        "- BsmtFinSF1: Type 1 finished square feet.\n",
        "- BsmtFinType2: Rating of basement finished area (if multiple types) **(NA - No Basement)**.\n",
        "- BsmtFinSF2: Type 2 finished square feet.\n",
        "- BsmtUnfSF: Unfinished square feet of basement area.\n",
        "- TotalBsmtSF: Total square feet of basement area.\n",
        "- Heating: Type of heating.\n",
        "- HeatingQC: Heating quality and condition.\n",
        "- CentralAir: Central air conditioning.\n",
        "- Electrical: Electrical system.\n",
        "- 1stFlrSF: First Floor square feet.\n",
        "- 2ndFlrSF: Second floor square feet.\n",
        "- LowQualFinSF: Low quality finished square feet (all floors).\n",
        "- GrLivArea: Above grade (ground) living area square feet.\n",
        "- BsmtFullBath: Basement full bathrooms.\n",
        "- BsmtHalfBath: Basement half bathrooms.\n",
        "- FullBath: Full bathrooms above grade.\n",
        "- HalfBath: Half baths above grade.\n",
        "- Bedroom: Bedrooms above grade (does NOT include basement bedrooms).\n",
        "- Kitchen: Kitchens above grade.\n",
        "- KitchenQual: Kitchen quality.\n",
        "- TotRmsAbvGrd: Total rooms above grade (does not include bathrooms).\n",
        "- Functional: Home functionality (Assume typical unless deductions are warranted).\n",
        "- Fireplaces: Number of fireplaces.\n",
        "- FireplaceQu: Fireplace quality **(NA - No Fireplace)**.\n",
        "- GarageType: Garage location **(NA - No Garage)**.\n",
        "- GarageYrBlt: Year garage was built.\n",
        "- GarageFinish: Interior finish of the garage **(NA - No Garage)**.\n",
        "- GarageCars: Size of garage in car capacity.\n",
        "- GarageArea: Size of garage in square feet.\n",
        "- GarageQual: Garage quality **(NA - No Garage)**.\n",
        "- GarageCond: Garage condition **(NA - No Garage)**.\n",
        "- PavedDrive: Paved driveway.\n",
        "- WoodDeckSF: Wood deck area in square feet.\n",
        "- OpenPorchSF: Open porch area in square feet.\n",
        "- EnclosedPorch: Enclosed porch area in square feet.\n",
        "- 3SsnPorch: Three season porch area in square feet.\n",
        "- ScreenPorch: Screen porch area in square feet.\n",
        "- PoolArea: Pool area in square feet.\n",
        "- PoolQC: Pool quality **(NA - No Pool)**.\n",
        "- Fence: Fence quality **(NA - No Fence)**.\n",
        "- MiscFeature: Miscellaneous feature not covered in other categories **(NA - None)**.\n",
        "- MiscVal: Value of miscellaneous feature.\n",
        "- MoSold: Month Sold (MM).\n",
        "- YrSold: Year Sold (YYYY).\n",
        "- SaleType: Type of sale.\n",
        "- SaleCondition: Condition of sale."
      ]
    },
    {
      "cell_type": "code",
      "metadata": {
        "id": "crjqbRiVMqf6",
        "colab_type": "code",
        "outputId": "b45a86e4-1c4c-4062-81b9-1eb2cd660dd2",
        "colab": {
          "base_uri": "https://localhost:8080/",
          "height": 122
        }
      },
      "source": [
        "import numpy as np\n",
        "import pandas as pd\n",
        "import math\n",
        "import matplotlib.pyplot as plt\n",
        "from google.colab import drive\n",
        "drive.mount('/content/gdrive')"
      ],
      "execution_count": 0,
      "outputs": [
        {
          "output_type": "stream",
          "text": [
            "Go to this URL in a browser: https://accounts.google.com/o/oauth2/auth?client_id=947318989803-6bn6qk8qdgf4n4g3pfee6491hc0brc4i.apps.googleusercontent.com&redirect_uri=urn%3aietf%3awg%3aoauth%3a2.0%3aoob&response_type=code&scope=email%20https%3a%2f%2fwww.googleapis.com%2fauth%2fdocs.test%20https%3a%2f%2fwww.googleapis.com%2fauth%2fdrive%20https%3a%2f%2fwww.googleapis.com%2fauth%2fdrive.photos.readonly%20https%3a%2f%2fwww.googleapis.com%2fauth%2fpeopleapi.readonly\n",
            "\n",
            "Enter your authorization code:\n",
            "··········\n",
            "Mounted at /content/gdrive\n"
          ],
          "name": "stdout"
        }
      ]
    },
    {
      "cell_type": "markdown",
      "metadata": {
        "id": "H_4yb6CgX04X",
        "colab_type": "text"
      },
      "source": [
        "## 2. Download the data and explore"
      ]
    },
    {
      "cell_type": "code",
      "metadata": {
        "id": "MiLTiy0zM4Cg",
        "colab_type": "code",
        "colab": {}
      },
      "source": [
        "train_set = pd.read_csv('/content/gdrive/My Drive/Kaggel Projects/house-prices-advanced-regression-techniques/With NN/train.csv')\n",
        "test_set = pd.read_csv('/content/gdrive/My Drive/Kaggel Projects/house-prices-advanced-regression-techniques/With NN/test.csv')\n",
        "test_ID = test_set['Id']"
      ],
      "execution_count": 0,
      "outputs": []
    },
    {
      "cell_type": "markdown",
      "metadata": {
        "id": "1lIE6UjcYOVS",
        "colab_type": "text"
      },
      "source": [
        "#Let's look at the data - samples, missing values, info"
      ]
    },
    {
      "cell_type": "code",
      "metadata": {
        "id": "oSWsZKHsNWBJ",
        "colab_type": "code",
        "outputId": "87c3f0cf-cc8d-4cc8-ee0e-2a01c5f95f2d",
        "colab": {
          "base_uri": "https://localhost:8080/",
          "height": 34
        }
      },
      "source": [
        "train_set.shape"
      ],
      "execution_count": 0,
      "outputs": [
        {
          "output_type": "execute_result",
          "data": {
            "text/plain": [
              "(1460, 81)"
            ]
          },
          "metadata": {
            "tags": []
          },
          "execution_count": 4
        }
      ]
    },
    {
      "cell_type": "code",
      "metadata": {
        "id": "z3_hCF9rNYQL",
        "colab_type": "code",
        "outputId": "97dab970-6f45-417c-f2df-3e7db86713a0",
        "colab": {
          "base_uri": "https://localhost:8080/",
          "height": 34
        }
      },
      "source": [
        "test_set.shape"
      ],
      "execution_count": 0,
      "outputs": [
        {
          "output_type": "execute_result",
          "data": {
            "text/plain": [
              "(1459, 80)"
            ]
          },
          "metadata": {
            "tags": []
          },
          "execution_count": 5
        }
      ]
    },
    {
      "cell_type": "code",
      "metadata": {
        "id": "cWcrKpXYNZv6",
        "colab_type": "code",
        "colab": {}
      },
      "source": [
        "train_set.describe()"
      ],
      "execution_count": 0,
      "outputs": []
    },
    {
      "cell_type": "code",
      "metadata": {
        "id": "MGmwQyjrNeiD",
        "colab_type": "code",
        "colab": {}
      },
      "source": [
        "train_set.info()"
      ],
      "execution_count": 0,
      "outputs": []
    },
    {
      "cell_type": "code",
      "metadata": {
        "id": "AnK3aGiJAVe-",
        "colab_type": "code",
        "colab": {}
      },
      "source": [
        "train_set.head(5)"
      ],
      "execution_count": 0,
      "outputs": []
    },
    {
      "cell_type": "code",
      "metadata": {
        "id": "5FHryFQ_AYTQ",
        "colab_type": "code",
        "colab": {}
      },
      "source": [
        "test_set.head(5)"
      ],
      "execution_count": 0,
      "outputs": []
    },
    {
      "cell_type": "code",
      "metadata": {
        "id": "m3rPDGjTOTK_",
        "colab_type": "code",
        "colab": {}
      },
      "source": [
        "train_set.drop_duplicates()"
      ],
      "execution_count": 0,
      "outputs": []
    },
    {
      "cell_type": "markdown",
      "metadata": {
        "id": "szbrOlkolHbb",
        "colab_type": "text"
      },
      "source": [
        "#Correlation"
      ]
    },
    {
      "cell_type": "code",
      "metadata": {
        "id": "ULwjfXa9Yj5P",
        "colab_type": "code",
        "outputId": "a7b4310b-be93-4d0b-cb6b-983b95d9ca1a",
        "colab": {
          "base_uri": "https://localhost:8080/",
          "height": 1000
        }
      },
      "source": [
        "plt.subplots(figsize = (30,20))\n",
        "\n",
        "mask = np.zeros_like(train_set.corr(), dtype=np.bool)\n",
        "mask[np.triu_indices_from(mask)] = True\n",
        "\n",
        "sns.heatmap(train_set.corr(), \n",
        "            cmap=sns.diverging_palette(20, 220, n=200), \n",
        "            mask = mask, \n",
        "            annot=True, \n",
        "            center = 0, \n",
        ")\n",
        "\n",
        "plt.title(\"Heatmap of all the Features\", fontsize=30)"
      ],
      "execution_count": 0,
      "outputs": [
        {
          "output_type": "display_data",
          "data": {
            "image/png": "[encoded data removed]",
            "text/plain": [
              "<Figure size 2160x1440 with 2 Axes>"
            ]
          },
          "metadata": {
            "tags": [],
            "needs_background": "light"
          }
        }
      ]
    },
    {
      "cell_type": "markdown",
      "metadata": {
        "id": "dmBrUAnXxxl4",
        "colab_type": "text"
      },
      "source": [
        "# Removing Unneccarly features"
      ]
    },
    {
      "cell_type": "code",
      "metadata": {
        "id": "BHZZwBEFxvmo",
        "colab_type": "code",
        "colab": {}
      },
      "source": [
        "new_train=train_set.drop(['Id','Alley','Condition1','Condition2','OverallQual','Exterior1st','RoofMatl','Exterior2nd','ExterQual','ExterCond','MasVnrType','BsmtCond','BsmtExposure','BsmtFinType1','BsmtFinSF1','BsmtFinType2','BsmtFinSF2','BsmtUnfSF','HeatingQC','LowQualFinSF','KitchenQual','Functional','Fireplaces','FireplaceQu','GarageYrBlt','GarageFinish','GarageCars','GarageQual','GarageCond','PavedDrive','PoolQC','Fence','MiscFeature','MoSold'], axis=1)\n",
        "new_test=test_set.drop(['Id','Alley','Condition1','Condition2','OverallQual','Exterior1st','RoofMatl','Exterior2nd','ExterQual','ExterCond','MasVnrType','BsmtCond','BsmtExposure','BsmtFinType1','BsmtFinSF1','BsmtFinType2','BsmtFinSF2','BsmtUnfSF','HeatingQC','LowQualFinSF','KitchenQual','Functional','Fireplaces','FireplaceQu','GarageYrBlt','GarageFinish','GarageCars','GarageQual','GarageCond','PavedDrive','PoolQC','Fence','MiscFeature','MoSold'], axis=1)"
      ],
      "execution_count": 0,
      "outputs": []
    },
    {
      "cell_type": "markdown",
      "metadata": {
        "id": "bXhrFiGyPXcs",
        "colab_type": "text"
      },
      "source": [
        "#Fill in missing values"
      ]
    },
    {
      "cell_type": "code",
      "metadata": {
        "id": "GKXM23sL2yWU",
        "colab_type": "code",
        "outputId": "c3ddcd8e-2f19-4dc1-db13-bdeddb6651bf",
        "colab": {
          "base_uri": "https://localhost:8080/",
          "height": 1000
        }
      },
      "source": [
        "from IPython.display import display_html\n",
        "import warnings\n",
        "import seaborn as sns\n",
        "\n",
        "\n",
        "\n",
        "#determined ht emissing data\n",
        "def Missing (X):\n",
        "    total = X.isnull().sum().sort_values(ascending = False)\n",
        "    percent = round(X.isnull().sum())\n",
        "    missing = pd.concat([total, percent], axis = 1,keys= ['Total', 'Percent'])\n",
        "    return(missing) \n",
        "#plots number of dataframes side by side\n",
        "def SideSide(*args):\n",
        "    html_str=''\n",
        "    for df in args:\n",
        "        html_str+=df.to_html()\n",
        "    display_html(html_str.replace('table','table style=\"display:inline\"'),raw = True)\n",
        "\n",
        "# Fill empty values with NaN\n",
        "new_train = new_train.fillna(np.nan)\n",
        "new_test = new_test.fillna(np.nan)\n",
        "\n",
        "#finds missing values\n",
        "missing_train = Missing(new_train)\n",
        "missing_test = Missing(new_test)\n",
        "    \n",
        "print('TRAIN DATA','\\t\\t','TEST DATA')\n",
        "SideSide(missing_train, missing_test)\n",
        "\n",
        "#plot missing data in heatmap for visualisation\n",
        "print('\\n\\n  MISSING TRAINING DATA \\t\\t\\t MISSING TEST DATA')\n",
        "cmap = sns.diverging_palette( 220 , 10 , as_cmap = True )\n",
        "plt.figure(figsize = (10,5));\n",
        "plt.subplot(1, 2, 1)\n",
        "sns.heatmap(new_train.isnull(), yticklabels = False, cbar = False, cmap = cmap)\n",
        "plt.subplot(1, 2, 2)\n",
        "sns.heatmap(new_test.isnull(), yticklabels = False, cbar = False,cmap = cmap);"
      ],
      "execution_count": 0,
      "outputs": [
        {
          "output_type": "stream",
          "text": [
            "TRAIN DATA \t\t TEST DATA\n"
          ],
          "name": "stdout"
        },
        {
          "output_type": "display_data",
          "data": {
            "text/html": [
              "<table style=\"display:inline\" border=\"1\" class=\"dataframe\">\n",
              "  <thead>\n",
              "    <tr style=\"text-align: right;\">\n",
              "      <th></th>\n",
              "      <th>Total</th>\n",
              "      <th>Percent</th>\n",
              "    </tr>\n",
              "  </thead>\n",
              "  <tbody>\n",
              "    <tr>\n",
              "      <th>LotFrontage</th>\n",
              "      <td>259</td>\n",
              "      <td>259</td>\n",
              "    </tr>\n",
              "    <tr>\n",
              "      <th>GarageType</th>\n",
              "      <td>81</td>\n",
              "      <td>81</td>\n",
              "    </tr>\n",
              "    <tr>\n",
              "      <th>BsmtQual</th>\n",
              "      <td>37</td>\n",
              "      <td>37</td>\n",
              "    </tr>\n",
              "    <tr>\n",
              "      <th>MasVnrArea</th>\n",
              "      <td>8</td>\n",
              "      <td>8</td>\n",
              "    </tr>\n",
              "    <tr>\n",
              "      <th>Electrical</th>\n",
              "      <td>1</td>\n",
              "      <td>1</td>\n",
              "    </tr>\n",
              "    <tr>\n",
              "      <th>Street</th>\n",
              "      <td>0</td>\n",
              "      <td>0</td>\n",
              "    </tr>\n",
              "    <tr>\n",
              "      <th>OverallCond</th>\n",
              "      <td>0</td>\n",
              "      <td>0</td>\n",
              "    </tr>\n",
              "    <tr>\n",
              "      <th>TotalBsmtSF</th>\n",
              "      <td>0</td>\n",
              "      <td>0</td>\n",
              "    </tr>\n",
              "    <tr>\n",
              "      <th>MSZoning</th>\n",
              "      <td>0</td>\n",
              "      <td>0</td>\n",
              "    </tr>\n",
              "    <tr>\n",
              "      <th>Foundation</th>\n",
              "      <td>0</td>\n",
              "      <td>0</td>\n",
              "    </tr>\n",
              "    <tr>\n",
              "      <th>LotArea</th>\n",
              "      <td>0</td>\n",
              "      <td>0</td>\n",
              "    </tr>\n",
              "    <tr>\n",
              "      <th>RoofStyle</th>\n",
              "      <td>0</td>\n",
              "      <td>0</td>\n",
              "    </tr>\n",
              "    <tr>\n",
              "      <th>YearRemodAdd</th>\n",
              "      <td>0</td>\n",
              "      <td>0</td>\n",
              "    </tr>\n",
              "    <tr>\n",
              "      <th>YearBuilt</th>\n",
              "      <td>0</td>\n",
              "      <td>0</td>\n",
              "    </tr>\n",
              "    <tr>\n",
              "      <th>HouseStyle</th>\n",
              "      <td>0</td>\n",
              "      <td>0</td>\n",
              "    </tr>\n",
              "    <tr>\n",
              "      <th>LotShape</th>\n",
              "      <td>0</td>\n",
              "      <td>0</td>\n",
              "    </tr>\n",
              "    <tr>\n",
              "      <th>BldgType</th>\n",
              "      <td>0</td>\n",
              "      <td>0</td>\n",
              "    </tr>\n",
              "    <tr>\n",
              "      <th>CentralAir</th>\n",
              "      <td>0</td>\n",
              "      <td>0</td>\n",
              "    </tr>\n",
              "    <tr>\n",
              "      <th>Neighborhood</th>\n",
              "      <td>0</td>\n",
              "      <td>0</td>\n",
              "    </tr>\n",
              "    <tr>\n",
              "      <th>LandSlope</th>\n",
              "      <td>0</td>\n",
              "      <td>0</td>\n",
              "    </tr>\n",
              "    <tr>\n",
              "      <th>LotConfig</th>\n",
              "      <td>0</td>\n",
              "      <td>0</td>\n",
              "    </tr>\n",
              "    <tr>\n",
              "      <th>Utilities</th>\n",
              "      <td>0</td>\n",
              "      <td>0</td>\n",
              "    </tr>\n",
              "    <tr>\n",
              "      <th>LandContour</th>\n",
              "      <td>0</td>\n",
              "      <td>0</td>\n",
              "    </tr>\n",
              "    <tr>\n",
              "      <th>Heating</th>\n",
              "      <td>0</td>\n",
              "      <td>0</td>\n",
              "    </tr>\n",
              "    <tr>\n",
              "      <th>SalePrice</th>\n",
              "      <td>0</td>\n",
              "      <td>0</td>\n",
              "    </tr>\n",
              "    <tr>\n",
              "      <th>SaleCondition</th>\n",
              "      <td>0</td>\n",
              "      <td>0</td>\n",
              "    </tr>\n",
              "    <tr>\n",
              "      <th>1stFlrSF</th>\n",
              "      <td>0</td>\n",
              "      <td>0</td>\n",
              "    </tr>\n",
              "    <tr>\n",
              "      <th>SaleType</th>\n",
              "      <td>0</td>\n",
              "      <td>0</td>\n",
              "    </tr>\n",
              "    <tr>\n",
              "      <th>YrSold</th>\n",
              "      <td>0</td>\n",
              "      <td>0</td>\n",
              "    </tr>\n",
              "    <tr>\n",
              "      <th>MiscVal</th>\n",
              "      <td>0</td>\n",
              "      <td>0</td>\n",
              "    </tr>\n",
              "    <tr>\n",
              "      <th>PoolArea</th>\n",
              "      <td>0</td>\n",
              "      <td>0</td>\n",
              "    </tr>\n",
              "    <tr>\n",
              "      <th>ScreenPorch</th>\n",
              "      <td>0</td>\n",
              "      <td>0</td>\n",
              "    </tr>\n",
              "    <tr>\n",
              "      <th>3SsnPorch</th>\n",
              "      <td>0</td>\n",
              "      <td>0</td>\n",
              "    </tr>\n",
              "    <tr>\n",
              "      <th>EnclosedPorch</th>\n",
              "      <td>0</td>\n",
              "      <td>0</td>\n",
              "    </tr>\n",
              "    <tr>\n",
              "      <th>OpenPorchSF</th>\n",
              "      <td>0</td>\n",
              "      <td>0</td>\n",
              "    </tr>\n",
              "    <tr>\n",
              "      <th>WoodDeckSF</th>\n",
              "      <td>0</td>\n",
              "      <td>0</td>\n",
              "    </tr>\n",
              "    <tr>\n",
              "      <th>GarageArea</th>\n",
              "      <td>0</td>\n",
              "      <td>0</td>\n",
              "    </tr>\n",
              "    <tr>\n",
              "      <th>TotRmsAbvGrd</th>\n",
              "      <td>0</td>\n",
              "      <td>0</td>\n",
              "    </tr>\n",
              "    <tr>\n",
              "      <th>KitchenAbvGr</th>\n",
              "      <td>0</td>\n",
              "      <td>0</td>\n",
              "    </tr>\n",
              "    <tr>\n",
              "      <th>BedroomAbvGr</th>\n",
              "      <td>0</td>\n",
              "      <td>0</td>\n",
              "    </tr>\n",
              "    <tr>\n",
              "      <th>HalfBath</th>\n",
              "      <td>0</td>\n",
              "      <td>0</td>\n",
              "    </tr>\n",
              "    <tr>\n",
              "      <th>FullBath</th>\n",
              "      <td>0</td>\n",
              "      <td>0</td>\n",
              "    </tr>\n",
              "    <tr>\n",
              "      <th>BsmtHalfBath</th>\n",
              "      <td>0</td>\n",
              "      <td>0</td>\n",
              "    </tr>\n",
              "    <tr>\n",
              "      <th>BsmtFullBath</th>\n",
              "      <td>0</td>\n",
              "      <td>0</td>\n",
              "    </tr>\n",
              "    <tr>\n",
              "      <th>GrLivArea</th>\n",
              "      <td>0</td>\n",
              "      <td>0</td>\n",
              "    </tr>\n",
              "    <tr>\n",
              "      <th>2ndFlrSF</th>\n",
              "      <td>0</td>\n",
              "      <td>0</td>\n",
              "    </tr>\n",
              "    <tr>\n",
              "      <th>MSSubClass</th>\n",
              "      <td>0</td>\n",
              "      <td>0</td>\n",
              "    </tr>\n",
              "  </tbody>\n",
              "</table style=\"display:inline\"><table style=\"display:inline\" border=\"1\" class=\"dataframe\">\n",
              "  <thead>\n",
              "    <tr style=\"text-align: right;\">\n",
              "      <th></th>\n",
              "      <th>Total</th>\n",
              "      <th>Percent</th>\n",
              "    </tr>\n",
              "  </thead>\n",
              "  <tbody>\n",
              "    <tr>\n",
              "      <th>LotFrontage</th>\n",
              "      <td>227</td>\n",
              "      <td>227</td>\n",
              "    </tr>\n",
              "    <tr>\n",
              "      <th>GarageType</th>\n",
              "      <td>76</td>\n",
              "      <td>76</td>\n",
              "    </tr>\n",
              "    <tr>\n",
              "      <th>BsmtQual</th>\n",
              "      <td>44</td>\n",
              "      <td>44</td>\n",
              "    </tr>\n",
              "    <tr>\n",
              "      <th>MasVnrArea</th>\n",
              "      <td>15</td>\n",
              "      <td>15</td>\n",
              "    </tr>\n",
              "    <tr>\n",
              "      <th>MSZoning</th>\n",
              "      <td>4</td>\n",
              "      <td>4</td>\n",
              "    </tr>\n",
              "    <tr>\n",
              "      <th>Utilities</th>\n",
              "      <td>2</td>\n",
              "      <td>2</td>\n",
              "    </tr>\n",
              "    <tr>\n",
              "      <th>BsmtFullBath</th>\n",
              "      <td>2</td>\n",
              "      <td>2</td>\n",
              "    </tr>\n",
              "    <tr>\n",
              "      <th>BsmtHalfBath</th>\n",
              "      <td>2</td>\n",
              "      <td>2</td>\n",
              "    </tr>\n",
              "    <tr>\n",
              "      <th>TotalBsmtSF</th>\n",
              "      <td>1</td>\n",
              "      <td>1</td>\n",
              "    </tr>\n",
              "    <tr>\n",
              "      <th>SaleType</th>\n",
              "      <td>1</td>\n",
              "      <td>1</td>\n",
              "    </tr>\n",
              "    <tr>\n",
              "      <th>GarageArea</th>\n",
              "      <td>1</td>\n",
              "      <td>1</td>\n",
              "    </tr>\n",
              "    <tr>\n",
              "      <th>OverallCond</th>\n",
              "      <td>0</td>\n",
              "      <td>0</td>\n",
              "    </tr>\n",
              "    <tr>\n",
              "      <th>Foundation</th>\n",
              "      <td>0</td>\n",
              "      <td>0</td>\n",
              "    </tr>\n",
              "    <tr>\n",
              "      <th>RoofStyle</th>\n",
              "      <td>0</td>\n",
              "      <td>0</td>\n",
              "    </tr>\n",
              "    <tr>\n",
              "      <th>YearRemodAdd</th>\n",
              "      <td>0</td>\n",
              "      <td>0</td>\n",
              "    </tr>\n",
              "    <tr>\n",
              "      <th>YearBuilt</th>\n",
              "      <td>0</td>\n",
              "      <td>0</td>\n",
              "    </tr>\n",
              "    <tr>\n",
              "      <th>SaleCondition</th>\n",
              "      <td>0</td>\n",
              "      <td>0</td>\n",
              "    </tr>\n",
              "    <tr>\n",
              "      <th>HouseStyle</th>\n",
              "      <td>0</td>\n",
              "      <td>0</td>\n",
              "    </tr>\n",
              "    <tr>\n",
              "      <th>BldgType</th>\n",
              "      <td>0</td>\n",
              "      <td>0</td>\n",
              "    </tr>\n",
              "    <tr>\n",
              "      <th>LandSlope</th>\n",
              "      <td>0</td>\n",
              "      <td>0</td>\n",
              "    </tr>\n",
              "    <tr>\n",
              "      <th>LotConfig</th>\n",
              "      <td>0</td>\n",
              "      <td>0</td>\n",
              "    </tr>\n",
              "    <tr>\n",
              "      <th>LandContour</th>\n",
              "      <td>0</td>\n",
              "      <td>0</td>\n",
              "    </tr>\n",
              "    <tr>\n",
              "      <th>LotShape</th>\n",
              "      <td>0</td>\n",
              "      <td>0</td>\n",
              "    </tr>\n",
              "    <tr>\n",
              "      <th>Street</th>\n",
              "      <td>0</td>\n",
              "      <td>0</td>\n",
              "    </tr>\n",
              "    <tr>\n",
              "      <th>LotArea</th>\n",
              "      <td>0</td>\n",
              "      <td>0</td>\n",
              "    </tr>\n",
              "    <tr>\n",
              "      <th>Neighborhood</th>\n",
              "      <td>0</td>\n",
              "      <td>0</td>\n",
              "    </tr>\n",
              "    <tr>\n",
              "      <th>CentralAir</th>\n",
              "      <td>0</td>\n",
              "      <td>0</td>\n",
              "    </tr>\n",
              "    <tr>\n",
              "      <th>Heating</th>\n",
              "      <td>0</td>\n",
              "      <td>0</td>\n",
              "    </tr>\n",
              "    <tr>\n",
              "      <th>WoodDeckSF</th>\n",
              "      <td>0</td>\n",
              "      <td>0</td>\n",
              "    </tr>\n",
              "    <tr>\n",
              "      <th>YrSold</th>\n",
              "      <td>0</td>\n",
              "      <td>0</td>\n",
              "    </tr>\n",
              "    <tr>\n",
              "      <th>MiscVal</th>\n",
              "      <td>0</td>\n",
              "      <td>0</td>\n",
              "    </tr>\n",
              "    <tr>\n",
              "      <th>PoolArea</th>\n",
              "      <td>0</td>\n",
              "      <td>0</td>\n",
              "    </tr>\n",
              "    <tr>\n",
              "      <th>ScreenPorch</th>\n",
              "      <td>0</td>\n",
              "      <td>0</td>\n",
              "    </tr>\n",
              "    <tr>\n",
              "      <th>3SsnPorch</th>\n",
              "      <td>0</td>\n",
              "      <td>0</td>\n",
              "    </tr>\n",
              "    <tr>\n",
              "      <th>EnclosedPorch</th>\n",
              "      <td>0</td>\n",
              "      <td>0</td>\n",
              "    </tr>\n",
              "    <tr>\n",
              "      <th>OpenPorchSF</th>\n",
              "      <td>0</td>\n",
              "      <td>0</td>\n",
              "    </tr>\n",
              "    <tr>\n",
              "      <th>TotRmsAbvGrd</th>\n",
              "      <td>0</td>\n",
              "      <td>0</td>\n",
              "    </tr>\n",
              "    <tr>\n",
              "      <th>Electrical</th>\n",
              "      <td>0</td>\n",
              "      <td>0</td>\n",
              "    </tr>\n",
              "    <tr>\n",
              "      <th>KitchenAbvGr</th>\n",
              "      <td>0</td>\n",
              "      <td>0</td>\n",
              "    </tr>\n",
              "    <tr>\n",
              "      <th>BedroomAbvGr</th>\n",
              "      <td>0</td>\n",
              "      <td>0</td>\n",
              "    </tr>\n",
              "    <tr>\n",
              "      <th>HalfBath</th>\n",
              "      <td>0</td>\n",
              "      <td>0</td>\n",
              "    </tr>\n",
              "    <tr>\n",
              "      <th>FullBath</th>\n",
              "      <td>0</td>\n",
              "      <td>0</td>\n",
              "    </tr>\n",
              "    <tr>\n",
              "      <th>GrLivArea</th>\n",
              "      <td>0</td>\n",
              "      <td>0</td>\n",
              "    </tr>\n",
              "    <tr>\n",
              "      <th>2ndFlrSF</th>\n",
              "      <td>0</td>\n",
              "      <td>0</td>\n",
              "    </tr>\n",
              "    <tr>\n",
              "      <th>1stFlrSF</th>\n",
              "      <td>0</td>\n",
              "      <td>0</td>\n",
              "    </tr>\n",
              "    <tr>\n",
              "      <th>MSSubClass</th>\n",
              "      <td>0</td>\n",
              "      <td>0</td>\n",
              "    </tr>\n",
              "  </tbody>\n",
              "</table style=\"display:inline\">"
            ]
          },
          "metadata": {
            "tags": []
          }
        },
        {
          "output_type": "stream",
          "text": [
            "\n",
            "\n",
            "  MISSING TRAINING DATA \t\t\t MISSING TEST DATA\n"
          ],
          "name": "stdout"
        },
        {
          "output_type": "display_data",
          "data": {
            "image/png": "[encoded data removed]",
            "text/plain": [
              "<Figure size 720x360 with 2 Axes>"
            ]
          },
          "metadata": {
            "tags": [],
            "needs_background": "light"
          }
        }
      ]
    },
    {
      "cell_type": "code",
      "metadata": {
        "id": "qDS_VPMCPZHM",
        "colab_type": "code",
        "colab": {}
      },
      "source": [
        "data = [new_train, new_test]"
      ],
      "execution_count": 0,
      "outputs": []
    },
    {
      "cell_type": "code",
      "metadata": {
        "id": "q9yoIVpsQFNZ",
        "colab_type": "code",
        "colab": {}
      },
      "source": [
        "new_train['LotFrontage'].value_counts()"
      ],
      "execution_count": 0,
      "outputs": []
    },
    {
      "cell_type": "code",
      "metadata": {
        "id": "cMWOmtudQujM",
        "colab_type": "code",
        "colab": {}
      },
      "source": [
        "new_train.LotFrontage.fillna(new_train.LotFrontage.mean(),inplace=True)\n",
        "new_test.LotFrontage.fillna(new_test.LotFrontage.mean(),inplace=True)"
      ],
      "execution_count": 0,
      "outputs": []
    },
    {
      "cell_type": "code",
      "metadata": {
        "id": "F_rNa73CSwC6",
        "colab_type": "code",
        "colab": {}
      },
      "source": [
        "new_train.MasVnrArea.value_counts()"
      ],
      "execution_count": 0,
      "outputs": []
    },
    {
      "cell_type": "code",
      "metadata": {
        "id": "O11vQbjxTBau",
        "colab_type": "code",
        "colab": {}
      },
      "source": [
        "data = [new_train,new_test]\n",
        "for dataset in data:\n",
        "  dataset.MasVnrArea.fillna(value=0.0, inplace=True)"
      ],
      "execution_count": 0,
      "outputs": []
    },
    {
      "cell_type": "code",
      "metadata": {
        "id": "RQw0J7C4TfVC",
        "colab_type": "code",
        "colab": {}
      },
      "source": [
        "new_train.MasVnrArea.isnull().any()"
      ],
      "execution_count": 0,
      "outputs": []
    },
    {
      "cell_type": "code",
      "metadata": {
        "id": "KQ6DhTsrYa-I",
        "colab_type": "code",
        "colab": {}
      },
      "source": [
        "new_train.Electrical.value_counts()"
      ],
      "execution_count": 0,
      "outputs": []
    },
    {
      "cell_type": "code",
      "metadata": {
        "id": "MhnNknM_Yi82",
        "colab_type": "code",
        "colab": {}
      },
      "source": [
        "data = [new_train,new_test]\n",
        "for dataset in data:\n",
        "  dataset.Electrical.fillna(value='SBrkr',inplace=True)"
      ],
      "execution_count": 0,
      "outputs": []
    },
    {
      "cell_type": "code",
      "metadata": {
        "id": "6PSNrPciYsMp",
        "colab_type": "code",
        "colab": {}
      },
      "source": [
        "new_train.BsmtQual.value_counts()"
      ],
      "execution_count": 0,
      "outputs": []
    },
    {
      "cell_type": "code",
      "metadata": {
        "id": "pYUejdGIZldC",
        "colab_type": "code",
        "outputId": "0c6ceffa-29ce-49e0-f0a4-9b504c486b8c",
        "colab": {
          "base_uri": "https://localhost:8080/",
          "height": 102
        }
      },
      "source": [
        "fill_BsmtQual_list = ['TA','Gd']\n",
        "data = [new_train,new_test]\n",
        "for dataset in data:\n",
        "  dataset.BsmtQual.fillna(pd.Series(np.random.choice(fill_BsmtQual_list, size= len(dataset.index))),inplace=True)\n",
        "\n",
        "\n",
        "new_train.BsmtQual.value_counts()"
      ],
      "execution_count": 0,
      "outputs": [
        {
          "output_type": "execute_result",
          "data": {
            "text/plain": [
              "TA    661\n",
              "Gd    643\n",
              "Ex    121\n",
              "Fa     35\n",
              "Name: BsmtQual, dtype: int64"
            ]
          },
          "metadata": {
            "tags": []
          },
          "execution_count": 9
        }
      ]
    },
    {
      "cell_type": "code",
      "metadata": {
        "id": "iB4czFxyQRs5",
        "colab_type": "code",
        "colab": {}
      },
      "source": [
        "new_train.BsmtQual.isnull().any()"
      ],
      "execution_count": 0,
      "outputs": []
    },
    {
      "cell_type": "code",
      "metadata": {
        "id": "-phlOkl-REMp",
        "colab_type": "code",
        "colab": {}
      },
      "source": [
        "new_train.GarageType.value_counts()"
      ],
      "execution_count": 0,
      "outputs": []
    },
    {
      "cell_type": "code",
      "metadata": {
        "id": "snzIVdaxRNft",
        "colab_type": "code",
        "outputId": "116549a5-b9d1-4990-b735-2bd4f64456f6",
        "colab": {
          "base_uri": "https://localhost:8080/",
          "height": 136
        }
      },
      "source": [
        "fill_GarageType_list = ['Attchd','Attchd','Detchd']\n",
        "data = [new_train,new_test]\n",
        "for dataset in data:\n",
        "  dataset.GarageType.fillna(pd.Series(np.random.choice(fill_GarageType_list, size=len( dataset.index))),inplace=True)\n",
        "\n",
        "\n",
        "new_train.GarageType.value_counts()"
      ],
      "execution_count": 0,
      "outputs": [
        {
          "output_type": "execute_result",
          "data": {
            "text/plain": [
              "Attchd     922\n",
              "Detchd     416\n",
              "BuiltIn     88\n",
              "Basment     19\n",
              "CarPort      9\n",
              "2Types       6\n",
              "Name: GarageType, dtype: int64"
            ]
          },
          "metadata": {
            "tags": []
          },
          "execution_count": 10
        }
      ]
    },
    {
      "cell_type": "code",
      "metadata": {
        "id": "5o_CzsqJRrCo",
        "colab_type": "code",
        "outputId": "40706842-4583-44fb-91bf-4cdfa8681b2c",
        "colab": {
          "base_uri": "https://localhost:8080/",
          "height": 833
        }
      },
      "source": [
        "new_train.isnull().sum()"
      ],
      "execution_count": 0,
      "outputs": [
        {
          "output_type": "execute_result",
          "data": {
            "text/plain": [
              "MSSubClass       0\n",
              "MSZoning         0\n",
              "LotFrontage      0\n",
              "LotArea          0\n",
              "Street           0\n",
              "LotShape         0\n",
              "LandContour      0\n",
              "Utilities        0\n",
              "LotConfig        0\n",
              "LandSlope        0\n",
              "Neighborhood     0\n",
              "BldgType         0\n",
              "HouseStyle       0\n",
              "OverallCond      0\n",
              "YearBuilt        0\n",
              "YearRemodAdd     0\n",
              "RoofStyle        0\n",
              "MasVnrArea       0\n",
              "Foundation       0\n",
              "BsmtQual         0\n",
              "TotalBsmtSF      0\n",
              "Heating          0\n",
              "CentralAir       0\n",
              "Electrical       0\n",
              "1stFlrSF         0\n",
              "2ndFlrSF         0\n",
              "GrLivArea        0\n",
              "BsmtFullBath     0\n",
              "BsmtHalfBath     0\n",
              "FullBath         0\n",
              "HalfBath         0\n",
              "BedroomAbvGr     0\n",
              "KitchenAbvGr     0\n",
              "TotRmsAbvGrd     0\n",
              "GarageType       0\n",
              "GarageArea       0\n",
              "WoodDeckSF       0\n",
              "OpenPorchSF      0\n",
              "EnclosedPorch    0\n",
              "3SsnPorch        0\n",
              "ScreenPorch      0\n",
              "PoolArea         0\n",
              "MiscVal          0\n",
              "YrSold           0\n",
              "SaleType         0\n",
              "SaleCondition    0\n",
              "SalePrice        0\n",
              "dtype: int64"
            ]
          },
          "metadata": {
            "tags": []
          },
          "execution_count": 84
        }
      ]
    },
    {
      "cell_type": "code",
      "metadata": {
        "id": "QbP_kF7UC1Rs",
        "colab_type": "code",
        "outputId": "1bc7e552-7252-482f-c448-f1373a792f9e",
        "colab": {
          "base_uri": "https://localhost:8080/",
          "height": 816
        }
      },
      "source": [
        "new_test.isnull().sum()"
      ],
      "execution_count": 0,
      "outputs": [
        {
          "output_type": "execute_result",
          "data": {
            "text/plain": [
              "MSSubClass       0\n",
              "MSZoning         0\n",
              "LotFrontage      0\n",
              "LotArea          0\n",
              "Street           0\n",
              "LotShape         0\n",
              "LandContour      0\n",
              "Utilities        0\n",
              "LotConfig        0\n",
              "LandSlope        0\n",
              "Neighborhood     0\n",
              "BldgType         0\n",
              "HouseStyle       0\n",
              "OverallCond      0\n",
              "YearBuilt        0\n",
              "YearRemodAdd     0\n",
              "RoofStyle        0\n",
              "MasVnrArea       0\n",
              "Foundation       0\n",
              "BsmtQual         0\n",
              "TotalBsmtSF      0\n",
              "Heating          0\n",
              "CentralAir       0\n",
              "Electrical       0\n",
              "1stFlrSF         0\n",
              "2ndFlrSF         0\n",
              "GrLivArea        0\n",
              "BsmtFullBath     0\n",
              "BsmtHalfBath     0\n",
              "FullBath         0\n",
              "HalfBath         0\n",
              "BedroomAbvGr     0\n",
              "KitchenAbvGr     0\n",
              "TotRmsAbvGrd     0\n",
              "GarageType       0\n",
              "GarageArea       0\n",
              "WoodDeckSF       0\n",
              "OpenPorchSF      0\n",
              "EnclosedPorch    0\n",
              "3SsnPorch        0\n",
              "ScreenPorch      0\n",
              "PoolArea         0\n",
              "MiscVal          0\n",
              "YrSold           0\n",
              "SaleType         0\n",
              "SaleCondition    0\n",
              "dtype: int64"
            ]
          },
          "metadata": {
            "tags": []
          },
          "execution_count": 105
        }
      ]
    },
    {
      "cell_type": "code",
      "metadata": {
        "id": "E956gjdjcEWC",
        "colab_type": "code",
        "outputId": "181bb89a-3987-4968-f335-3136206fc26f",
        "colab": {
          "base_uri": "https://localhost:8080/",
          "height": 119
        }
      },
      "source": [
        "new_test.MSZoning.value_counts()"
      ],
      "execution_count": 0,
      "outputs": [
        {
          "output_type": "execute_result",
          "data": {
            "text/plain": [
              "RL         1114\n",
              "RM          242\n",
              "FV           74\n",
              "C (all)      15\n",
              "RH           10\n",
              "Name: MSZoning, dtype: int64"
            ]
          },
          "metadata": {
            "tags": []
          },
          "execution_count": 86
        }
      ]
    },
    {
      "cell_type": "code",
      "metadata": {
        "id": "_N4Wmh7mcHk8",
        "colab_type": "code",
        "colab": {}
      },
      "source": [
        "new_test.MSZoning.fillna(value='RL',inplace=True )"
      ],
      "execution_count": 0,
      "outputs": []
    },
    {
      "cell_type": "code",
      "metadata": {
        "id": "TCkqUY4PcQJv",
        "colab_type": "code",
        "outputId": "ed842a01-3a40-4e16-83a6-bec4678ee1fb",
        "colab": {
          "base_uri": "https://localhost:8080/",
          "height": 51
        }
      },
      "source": [
        "new_test.Utilities.value_counts()"
      ],
      "execution_count": 0,
      "outputs": [
        {
          "output_type": "execute_result",
          "data": {
            "text/plain": [
              "AllPub    1457\n",
              "Name: Utilities, dtype: int64"
            ]
          },
          "metadata": {
            "tags": []
          },
          "execution_count": 88
        }
      ]
    },
    {
      "cell_type": "code",
      "metadata": {
        "id": "MroSuLb3cUkw",
        "colab_type": "code",
        "colab": {}
      },
      "source": [
        "new_test.Utilities.fillna(value='AllPub', inplace=True)"
      ],
      "execution_count": 0,
      "outputs": []
    },
    {
      "cell_type": "code",
      "metadata": {
        "id": "ugv4DlCochWh",
        "colab_type": "code",
        "outputId": "432419cc-2110-4ad0-c5a7-e3ade469342e",
        "colab": {
          "base_uri": "https://localhost:8080/",
          "height": 221
        }
      },
      "source": [
        "new_test.TotalBsmtSF.value_counts()"
      ],
      "execution_count": 0,
      "outputs": [
        {
          "output_type": "execute_result",
          "data": {
            "text/plain": [
              "0.0       41\n",
              "864.0     39\n",
              "960.0     13\n",
              "546.0     12\n",
              "672.0     12\n",
              "          ..\n",
              "918.0      1\n",
              "1910.0     1\n",
              "1700.0     1\n",
              "750.0      1\n",
              "1075.0     1\n",
              "Name: TotalBsmtSF, Length: 736, dtype: int64"
            ]
          },
          "metadata": {
            "tags": []
          },
          "execution_count": 93
        }
      ]
    },
    {
      "cell_type": "code",
      "metadata": {
        "id": "kgPoEnJec2Dl",
        "colab_type": "code",
        "colab": {}
      },
      "source": [
        "fill_TotalBsmtSF = [0.0,864.0]\n",
        "new_test.TotalBsmtSF.fillna(pd.Series(np.random.choice(fill_TotalBsmtSF, size= len(new_test.index))),inplace=True)"
      ],
      "execution_count": 0,
      "outputs": []
    },
    {
      "cell_type": "code",
      "metadata": {
        "id": "yu8vJ8imdXC4",
        "colab_type": "code",
        "outputId": "72b63070-40fa-4117-eb80-1a851470424a",
        "colab": {
          "base_uri": "https://localhost:8080/",
          "height": 102
        }
      },
      "source": [
        "new_test.BsmtFullBath.value_counts()"
      ],
      "execution_count": 0,
      "outputs": [
        {
          "output_type": "execute_result",
          "data": {
            "text/plain": [
              "0.0    849\n",
              "1.0    584\n",
              "2.0     23\n",
              "3.0      1\n",
              "Name: BsmtFullBath, dtype: int64"
            ]
          },
          "metadata": {
            "tags": []
          },
          "execution_count": 97
        }
      ]
    },
    {
      "cell_type": "code",
      "metadata": {
        "id": "D4_NN-bjd6FE",
        "colab_type": "code",
        "colab": {}
      },
      "source": [
        "fill_BsmtFullBath = [0.0,1.0]\n",
        "new_test.BsmtFullBath.fillna(pd.Series(np.random.choice(fill_BsmtFullBath, size= len(new_test.index))),inplace=True)"
      ],
      "execution_count": 0,
      "outputs": []
    },
    {
      "cell_type": "code",
      "metadata": {
        "id": "8ePkzNryeEXv",
        "colab_type": "code",
        "outputId": "2ca7422b-4947-4cbb-cf17-f01749f16b20",
        "colab": {
          "base_uri": "https://localhost:8080/",
          "height": 85
        }
      },
      "source": [
        "new_test.BsmtHalfBath.value_counts()"
      ],
      "execution_count": 0,
      "outputs": [
        {
          "output_type": "execute_result",
          "data": {
            "text/plain": [
              "0.0    1364\n",
              "1.0      91\n",
              "2.0       2\n",
              "Name: BsmtHalfBath, dtype: int64"
            ]
          },
          "metadata": {
            "tags": []
          },
          "execution_count": 99
        }
      ]
    },
    {
      "cell_type": "code",
      "metadata": {
        "id": "XeE8cPDDeItR",
        "colab_type": "code",
        "colab": {}
      },
      "source": [
        "new_test.BsmtHalfBath.fillna(value=0.0, inplace=True)"
      ],
      "execution_count": 0,
      "outputs": []
    },
    {
      "cell_type": "code",
      "metadata": {
        "id": "uq2HKkaNePAK",
        "colab_type": "code",
        "outputId": "14149730-139f-4b95-dd3f-71f9ed619c38",
        "colab": {
          "base_uri": "https://localhost:8080/",
          "height": 221
        }
      },
      "source": [
        "new_test.GarageArea.value_counts()"
      ],
      "execution_count": 0,
      "outputs": [
        {
          "output_type": "execute_result",
          "data": {
            "text/plain": [
              "0.0      76\n",
              "576.0    50\n",
              "440.0    47\n",
              "484.0    34\n",
              "400.0    33\n",
              "         ..\n",
              "364.0     1\n",
              "369.0     1\n",
              "316.0     1\n",
              "226.0     1\n",
              "353.0     1\n",
              "Name: GarageArea, Length: 459, dtype: int64"
            ]
          },
          "metadata": {
            "tags": []
          },
          "execution_count": 101
        }
      ]
    },
    {
      "cell_type": "code",
      "metadata": {
        "id": "anxPf5OBeU7q",
        "colab_type": "code",
        "colab": {}
      },
      "source": [
        "fill_GarageArea = [0.0,576.0,440.0]\n",
        "new_test.GarageArea.fillna(pd.Series(np.random.choice(fill_GarageArea, size= len(new_test.index))),inplace=True)"
      ],
      "execution_count": 0,
      "outputs": []
    },
    {
      "cell_type": "code",
      "metadata": {
        "id": "kWfKSQKAegFA",
        "colab_type": "code",
        "outputId": "18b6f782-7fbb-42a1-bf2a-55060a3c217d",
        "colab": {
          "base_uri": "https://localhost:8080/",
          "height": 187
        }
      },
      "source": [
        "new_test.SaleType.value_counts()"
      ],
      "execution_count": 0,
      "outputs": [
        {
          "output_type": "execute_result",
          "data": {
            "text/plain": [
              "WD       1258\n",
              "New       117\n",
              "COD        44\n",
              "ConLD      17\n",
              "CWD         8\n",
              "ConLI       4\n",
              "Oth         4\n",
              "Con         3\n",
              "ConLw       3\n",
              "Name: SaleType, dtype: int64"
            ]
          },
          "metadata": {
            "tags": []
          },
          "execution_count": 103
        }
      ]
    },
    {
      "cell_type": "code",
      "metadata": {
        "id": "MfbNy3yrej_L",
        "colab_type": "code",
        "colab": {}
      },
      "source": [
        "new_test.SaleType.fillna(value='WD', inplace=True)"
      ],
      "execution_count": 0,
      "outputs": []
    },
    {
      "cell_type": "code",
      "metadata": {
        "id": "zSAu-J25Wulq",
        "colab_type": "code",
        "outputId": "251fee46-0bfc-4d1a-c1ec-12b78378ff27",
        "colab": {
          "base_uri": "https://localhost:8080/",
          "height": 34
        }
      },
      "source": [
        "new_test.shape"
      ],
      "execution_count": 0,
      "outputs": [
        {
          "output_type": "execute_result",
          "data": {
            "text/plain": [
              "(1459, 46)"
            ]
          },
          "metadata": {
            "tags": []
          },
          "execution_count": 21
        }
      ]
    },
    {
      "cell_type": "code",
      "metadata": {
        "id": "OcsQAqM1W1Wf",
        "colab_type": "code",
        "outputId": "54daeb66-df1b-43d5-c031-ca8439fcc3ed",
        "colab": {
          "base_uri": "https://localhost:8080/",
          "height": 34
        }
      },
      "source": [
        "new_train.shape"
      ],
      "execution_count": 0,
      "outputs": [
        {
          "output_type": "execute_result",
          "data": {
            "text/plain": [
              "(1460, 47)"
            ]
          },
          "metadata": {
            "tags": []
          },
          "execution_count": 22
        }
      ]
    },
    {
      "cell_type": "code",
      "metadata": {
        "id": "UckatwtKW4P6",
        "colab_type": "code",
        "colab": {}
      },
      "source": [
        "new_train.hist(bins=20, figsize=(20,15))"
      ],
      "execution_count": 0,
      "outputs": []
    },
    {
      "cell_type": "markdown",
      "metadata": {
        "id": "vWhySKdDajX2",
        "colab_type": "text"
      },
      "source": [
        "#Discover outliers with visualization tools"
      ]
    },
    {
      "cell_type": "code",
      "metadata": {
        "id": "lIUpVRGSZ52c",
        "colab_type": "code",
        "outputId": "1458bb1e-b2c4-4b98-eaa0-198b7da4fe39",
        "colab": {
          "base_uri": "https://localhost:8080/",
          "height": 407
        }
      },
      "source": [
        "plt.figure(figsize=(8,6))\n",
        "plt.scatter(range(new_train.shape[0]), np.sort(new_train.SalePrice.values))\n",
        "plt.xlabel('index', fontsize=12)\n",
        "plt.ylabel('SalePrice', fontsize=12)\n",
        "plt.title(\" SalePrice Distribution\")\n",
        "plt.show()"
      ],
      "execution_count": 0,
      "outputs": [
        {
          "output_type": "display_data",
          "data": {
            "image/png": "[encoded data removed]",
            "text/plain": [
              "<Figure size 576x432 with 1 Axes>"
            ]
          },
          "metadata": {
            "tags": [],
            "needs_background": "light"
          }
        }
      ]
    },
    {
      "cell_type": "markdown",
      "metadata": {
        "id": "5pgAn_IObQTh",
        "colab_type": "text"
      },
      "source": [
        ""
      ]
    },
    {
      "cell_type": "markdown",
      "metadata": {
        "id": "CDPHoYZTLDD3",
        "colab_type": "text"
      },
      "source": [
        "#Identifying Outliers with Interquartile Range (IQR), Boc plot and Hist plot"
      ]
    },
    {
      "cell_type": "code",
      "metadata": {
        "id": "IuJJhEHyaiFb",
        "colab_type": "code",
        "outputId": "b062fa66-6845-445c-f6d1-148724de850a",
        "colab": {
          "base_uri": "https://localhost:8080/",
          "height": 510
        }
      },
      "source": [
        "Q1 = new_train.quantile(0.25)\n",
        "Q3 = new_train.quantile(0.75)\n",
        "IQR = Q3 - Q1\n",
        "print(IQR)"
      ],
      "execution_count": 0,
      "outputs": [
        {
          "output_type": "stream",
          "text": [
            "MSSubClass          50.00\n",
            "LotFrontage         19.00\n",
            "LotArea           4048.00\n",
            "OverallCond          1.00\n",
            "YearBuilt           46.00\n",
            "YearRemodAdd        37.00\n",
            "MasVnrArea         164.25\n",
            "TotalBsmtSF        502.50\n",
            "1stFlrSF           509.25\n",
            "2ndFlrSF           728.00\n",
            "GrLivArea          647.25\n",
            "BsmtFullBath         1.00\n",
            "BsmtHalfBath         0.00\n",
            "FullBath             1.00\n",
            "HalfBath             1.00\n",
            "BedroomAbvGr         1.00\n",
            "KitchenAbvGr         0.00\n",
            "TotRmsAbvGrd         2.00\n",
            "GarageArea         241.50\n",
            "WoodDeckSF         168.00\n",
            "OpenPorchSF         68.00\n",
            "EnclosedPorch        0.00\n",
            "3SsnPorch            0.00\n",
            "ScreenPorch          0.00\n",
            "PoolArea             0.00\n",
            "MiscVal              0.00\n",
            "YrSold               2.00\n",
            "SalePrice        84025.00\n",
            "dtype: float64\n"
          ],
          "name": "stdout"
        }
      ]
    },
    {
      "cell_type": "markdown",
      "metadata": {
        "id": "nWvTz9vaMRQ1",
        "colab_type": "text"
      },
      "source": [
        "The above output prints the IQR scores, which can be used to detect outliers."
      ]
    },
    {
      "cell_type": "code",
      "metadata": {
        "id": "4WR_Sp_wbW6Z",
        "colab_type": "code",
        "outputId": "d860c18c-b11a-4c8c-8e89-7c3f1e0aaa72",
        "colab": {
          "base_uri": "https://localhost:8080/",
          "height": 265
        }
      },
      "source": [
        "plt.boxplot(new_train.LotArea)\n",
        "plt.show()"
      ],
      "execution_count": 0,
      "outputs": [
        {
          "output_type": "display_data",
          "data": {
            "image/png": "[encoded data removed]",
            "text/plain": [
              "<Figure size 432x288 with 1 Axes>"
            ]
          },
          "metadata": {
            "tags": [],
            "needs_background": "light"
          }
        }
      ]
    },
    {
      "cell_type": "code",
      "metadata": {
        "id": "pLssESkVc6al",
        "colab_type": "code",
        "outputId": "f5c9465c-dcb5-41bb-ea07-60b7b50cd9cd",
        "colab": {
          "base_uri": "https://localhost:8080/",
          "height": 282
        }
      },
      "source": [
        "new_train.LotArea.hist()"
      ],
      "execution_count": 0,
      "outputs": [
        {
          "output_type": "execute_result",
          "data": {
            "text/plain": [
              "<matplotlib.axes._subplots.AxesSubplot at 0x7ff8536c0a58>"
            ]
          },
          "metadata": {
            "tags": []
          },
          "execution_count": 117
        },
        {
          "output_type": "display_data",
          "data": {
            "image/png": "[encoded data removed]",
            "text/plain": [
              "<Figure size 432x288 with 1 Axes>"
            ]
          },
          "metadata": {
            "tags": [],
            "needs_background": "light"
          }
        }
      ]
    },
    {
      "cell_type": "markdown",
      "metadata": {
        "id": "LltEAaRodFXF",
        "colab_type": "text"
      },
      "source": [
        ""
      ]
    },
    {
      "cell_type": "markdown",
      "metadata": {
        "id": "X20zTVERLVMB",
        "colab_type": "text"
      },
      "source": [
        "#Deal with outliers - **Log transformation**"
      ]
    },
    {
      "cell_type": "code",
      "metadata": {
        "id": "wBK-4jDWdHd5",
        "colab_type": "code",
        "outputId": "4c80fb0a-f648-4dce-8c7f-4f01f7f30331",
        "colab": {
          "base_uri": "https://localhost:8080/",
          "height": 401
        }
      },
      "source": [
        "new_train[\"LotArea\"] = new_train[\"LotArea\"].map(lambda i: np.log(i) if i > 0 else 0) \n",
        "plt.boxplot(new_train.LotArea)"
      ],
      "execution_count": 0,
      "outputs": [
        {
          "output_type": "execute_result",
          "data": {
            "text/plain": [
              "{'boxes': [<matplotlib.lines.Line2D at 0x7f2fd9497400>],\n",
              " 'caps': [<matplotlib.lines.Line2D at 0x7f2fd94903c8>,\n",
              "  <matplotlib.lines.Line2D at 0x7f2fd9490748>],\n",
              " 'fliers': [<matplotlib.lines.Line2D at 0x7f2fd9490e80>],\n",
              " 'means': [],\n",
              " 'medians': [<matplotlib.lines.Line2D at 0x7f2fd9490ac8>],\n",
              " 'whiskers': [<matplotlib.lines.Line2D at 0x7f2fd9497710>,\n",
              "  <matplotlib.lines.Line2D at 0x7f2fd9490048>]}"
            ]
          },
          "metadata": {
            "tags": []
          },
          "execution_count": 19
        },
        {
          "output_type": "display_data",
          "data": {
            "image/png": "[encoded data removed]",
            "text/plain": [
              "<Figure size 432x288 with 1 Axes>"
            ]
          },
          "metadata": {
            "tags": [],
            "needs_background": "light"
          }
        }
      ]
    },
    {
      "cell_type": "code",
      "metadata": {
        "id": "nTCC5GVLqJeH",
        "colab_type": "code",
        "colab": {}
      },
      "source": [
        "new_test[\"LotArea\"] = new_test[\"LotArea\"].map(lambda i: np.log(i) if i > 0 else 0) "
      ],
      "execution_count": 0,
      "outputs": []
    },
    {
      "cell_type": "code",
      "metadata": {
        "id": "OlN0hQBJeDYG",
        "colab_type": "code",
        "outputId": "8876fd10-2e92-432f-9573-d4b2691731a8",
        "colab": {
          "base_uri": "https://localhost:8080/",
          "height": 282
        }
      },
      "source": [
        "new_train.LotArea.hist()\n"
      ],
      "execution_count": 0,
      "outputs": [
        {
          "output_type": "execute_result",
          "data": {
            "text/plain": [
              "<matplotlib.axes._subplots.AxesSubplot at 0x7ff85344b518>"
            ]
          },
          "metadata": {
            "tags": []
          },
          "execution_count": 119
        },
        {
          "output_type": "display_data",
          "data": {
            "image/png": "[encoded data removed]",
            "text/plain": [
              "<Figure size 432x288 with 1 Axes>"
            ]
          },
          "metadata": {
            "tags": [],
            "needs_background": "light"
          }
        }
      ]
    },
    {
      "cell_type": "code",
      "metadata": {
        "id": "yVScyln2byTp",
        "colab_type": "code",
        "outputId": "b19993e1-99e7-4ce1-d1eb-1f5678f1d946",
        "colab": {
          "base_uri": "https://localhost:8080/",
          "height": 265
        }
      },
      "source": [
        "plt.boxplot(new_train.MSSubClass)\n",
        "plt.show()"
      ],
      "execution_count": 0,
      "outputs": [
        {
          "output_type": "display_data",
          "data": {
            "image/png": "[encoded data removed]",
            "text/plain": [
              "<Figure size 432x288 with 1 Axes>"
            ]
          },
          "metadata": {
            "tags": [],
            "needs_background": "light"
          }
        }
      ]
    },
    {
      "cell_type": "code",
      "metadata": {
        "id": "nFrQbQMYb5q_",
        "colab_type": "code",
        "outputId": "70e2e047-6215-4ff6-c321-c877f47701ec",
        "colab": {
          "base_uri": "https://localhost:8080/",
          "height": 282
        }
      },
      "source": [
        "new_train.MSSubClass.hist()"
      ],
      "execution_count": 0,
      "outputs": [
        {
          "output_type": "execute_result",
          "data": {
            "text/plain": [
              "<matplotlib.axes._subplots.AxesSubplot at 0x7f97f9197438>"
            ]
          },
          "metadata": {
            "tags": []
          },
          "execution_count": 122
        },
        {
          "output_type": "display_data",
          "data": {
            "image/png": "[encoded data removed]",
            "text/plain": [
              "<Figure size 432x288 with 1 Axes>"
            ]
          },
          "metadata": {
            "tags": [],
            "needs_background": "light"
          }
        }
      ]
    },
    {
      "cell_type": "code",
      "metadata": {
        "id": "ACTtMD9Mefp2",
        "colab_type": "code",
        "colab": {}
      },
      "source": [
        "new_train[\"MSSubClass\"] = new_train[\"MSSubClass\"].map(lambda i: np.log(i) if i > 0 else 0) \n",
        "new_train[\"LotFrontage\"] = new_train[\"LotFrontage\"].map(lambda i: np.log(i) if i > 0 else 0) \n",
        "new_train[\"YearBuilt\"] = new_train[\"YearBuilt\"].map(lambda i: np.log(i) if i > 0 else 0) \n",
        "new_train[\"YearRemodAdd\"] = new_train[\"YearRemodAdd\"].map(lambda i: np.log(i) if i > 0 else 0) \n",
        "new_train[\"MasVnrArea\"] = new_train[\"MasVnrArea\"].map(lambda i: np.log(i) if i > 0 else 0) \n",
        "new_train[\"TotalBsmtSF\"] = new_train[\"TotalBsmtSF\"].map(lambda i: np.log(i) if i > 0 else 0) \n",
        "new_train[\"1stFlrSF\"] = new_train[\"1stFlrSF\"].map(lambda i: np.log(i) if i > 0 else 0) \n",
        "new_train[\"2ndFlrSF\"] = new_train[\"2ndFlrSF\"].map(lambda i: np.log(i) if i > 0 else 0) \n",
        "new_train[\"GrLivArea\"] = new_train[\"GrLivArea\"].map(lambda i: np.log(i) if i > 0 else 0) \n",
        "new_train[\"GarageArea\"] = new_train[\"GarageArea\"].map(lambda i: np.log(i) if i > 0 else 0) \n",
        "new_train[\"WoodDeckSF\"] = new_train[\"WoodDeckSF\"].map(lambda i: np.log(i) if i > 0 else 0) \n",
        "new_train[\"OpenPorchSF\"] = new_train[\"OpenPorchSF\"].map(lambda i: np.log(i) if i > 0 else 0) \n",
        "\n",
        "# TEST DATA\n",
        "\n",
        "new_test[\"MSSubClass\"] = new_test[\"MSSubClass\"].map(lambda i: np.log(i) if i > 0 else 0) \n",
        "new_test[\"LotFrontage\"] = new_test[\"LotFrontage\"].map(lambda i: np.log(i) if i > 0 else 0) \n",
        "new_test[\"YearBuilt\"] = new_test[\"YearBuilt\"].map(lambda i: np.log(i) if i > 0 else 0) \n",
        "new_test[\"YearRemodAdd\"] = new_test[\"YearRemodAdd\"].map(lambda i: np.log(i) if i > 0 else 0) \n",
        "new_test[\"MasVnrArea\"] = new_test[\"MasVnrArea\"].map(lambda i: np.log(i) if i > 0 else 0) \n",
        "new_test[\"TotalBsmtSF\"] = new_test[\"TotalBsmtSF\"].map(lambda i: np.log(i) if i > 0 else 0) \n",
        "new_test[\"1stFlrSF\"] = new_test[\"1stFlrSF\"].map(lambda i: np.log(i) if i > 0 else 0) \n",
        "new_test[\"2ndFlrSF\"] = new_test[\"2ndFlrSF\"].map(lambda i: np.log(i) if i > 0 else 0) \n",
        "new_test[\"GrLivArea\"] = new_test[\"GrLivArea\"].map(lambda i: np.log(i) if i > 0 else 0) \n",
        "new_test[\"GarageArea\"] = new_test[\"GarageArea\"].map(lambda i: np.log(i) if i > 0 else 0) \n",
        "new_test[\"WoodDeckSF\"] = new_test[\"WoodDeckSF\"].map(lambda i: np.log(i) if i > 0 else 0) \n",
        "new_test[\"OpenPorchSF\"] = new_test[\"OpenPorchSF\"].map(lambda i: np.log(i) if i > 0 else 0) "
      ],
      "execution_count": 0,
      "outputs": []
    },
    {
      "cell_type": "code",
      "metadata": {
        "id": "o68YAQbop6mE",
        "colab_type": "code",
        "outputId": "2f01c5b9-905d-48a4-f94f-b70db49af059",
        "colab": {
          "base_uri": "https://localhost:8080/",
          "height": 407
        }
      },
      "source": [
        "plt.figure(figsize=(8,6))\n",
        "plt.scatter(range(new_train.shape[0]), np.sort(new_train.SalePrice.values))\n",
        "plt.xlabel('index', fontsize=12)\n",
        "plt.ylabel('SalePrice', fontsize=12)\n",
        "plt.title(\" SalePrice Distribution\")\n",
        "plt.show()"
      ],
      "execution_count": 0,
      "outputs": [
        {
          "output_type": "display_data",
          "data": {
            "image/png": "[encoded data removed]",
            "text/plain": [
              "<Figure size 576x432 with 1 Axes>"
            ]
          },
          "metadata": {
            "tags": [],
            "needs_background": "light"
          }
        }
      ]
    },
    {
      "cell_type": "code",
      "metadata": {
        "id": "_2tS5UjWp7eL",
        "colab_type": "code",
        "outputId": "a9532141-5aae-447f-dfab-8b9f324f3d9a",
        "colab": {
          "base_uri": "https://localhost:8080/",
          "height": 510
        }
      },
      "source": [
        "Q1 = new_train.quantile(0.25)\n",
        "Q3 = new_train.quantile(0.75)\n",
        "IQR = Q3 - Q1\n",
        "print(IQR)"
      ],
      "execution_count": 0,
      "outputs": [
        {
          "output_type": "stream",
          "text": [
            "MSSubClass           1.252763\n",
            "LotFrontage          0.275103\n",
            "LotArea              0.429124\n",
            "OverallCond          1.000000\n",
            "YearBuilt            0.023269\n",
            "YearRemodAdd         0.018636\n",
            "MasVnrArea           5.101386\n",
            "TotalBsmtSF          0.489488\n",
            "1stFlrSF             0.455766\n",
            "2ndFlrSF             6.590301\n",
            "GrLivArea            0.453011\n",
            "BsmtFullBath         1.000000\n",
            "BsmtHalfBath         0.000000\n",
            "FullBath             1.000000\n",
            "HalfBath             1.000000\n",
            "BedroomAbvGr         1.000000\n",
            "KitchenAbvGr         0.000000\n",
            "TotRmsAbvGrd         2.000000\n",
            "GarageArea           0.543501\n",
            "WoodDeckSF           5.123964\n",
            "OpenPorchSF          4.219508\n",
            "EnclosedPorch        0.000000\n",
            "3SsnPorch            0.000000\n",
            "ScreenPorch          0.000000\n",
            "PoolArea             0.000000\n",
            "MiscVal              0.000000\n",
            "YrSold               2.000000\n",
            "SalePrice        84025.000000\n",
            "dtype: float64\n"
          ],
          "name": "stdout"
        }
      ]
    },
    {
      "cell_type": "markdown",
      "metadata": {
        "id": "B_LGgL5rrBGa",
        "colab_type": "text"
      },
      "source": [
        "#Convert Categorical data"
      ]
    },
    {
      "cell_type": "markdown",
      "metadata": {
        "id": "iVO7wKVXCB0q",
        "colab_type": "text"
      },
      "source": [
        "# combine the train and test set"
      ]
    },
    {
      "cell_type": "code",
      "metadata": {
        "id": "NUOj8KXhCFCK",
        "colab_type": "code",
        "colab": {}
      },
      "source": [
        "all_df = pd.concat([new_train,new_test])"
      ],
      "execution_count": 0,
      "outputs": []
    },
    {
      "cell_type": "code",
      "metadata": {
        "id": "gcevLFQHCJYl",
        "colab_type": "code",
        "outputId": "e1c13fe1-1378-4a33-e032-bc3dbff5e22d",
        "colab": {
          "base_uri": "https://localhost:8080/",
          "height": 833
        }
      },
      "source": [
        "all_df.isnull().sum()"
      ],
      "execution_count": 0,
      "outputs": [
        {
          "output_type": "execute_result",
          "data": {
            "text/plain": [
              "MSSubClass          0\n",
              "MSZoning            0\n",
              "LotFrontage         0\n",
              "LotArea             0\n",
              "Street              0\n",
              "LotShape            0\n",
              "LandContour         0\n",
              "Utilities           0\n",
              "LotConfig           0\n",
              "LandSlope           0\n",
              "Neighborhood        0\n",
              "BldgType            0\n",
              "HouseStyle          0\n",
              "OverallCond         0\n",
              "YearBuilt           0\n",
              "YearRemodAdd        0\n",
              "RoofStyle           0\n",
              "MasVnrArea          0\n",
              "Foundation          0\n",
              "BsmtQual            0\n",
              "TotalBsmtSF         0\n",
              "Heating             0\n",
              "CentralAir          0\n",
              "Electrical          0\n",
              "1stFlrSF            0\n",
              "2ndFlrSF            0\n",
              "GrLivArea           0\n",
              "BsmtFullBath        0\n",
              "BsmtHalfBath        0\n",
              "FullBath            0\n",
              "HalfBath            0\n",
              "BedroomAbvGr        0\n",
              "KitchenAbvGr        0\n",
              "TotRmsAbvGrd        0\n",
              "GarageType          0\n",
              "GarageArea          0\n",
              "WoodDeckSF          0\n",
              "OpenPorchSF         0\n",
              "EnclosedPorch       0\n",
              "3SsnPorch           0\n",
              "ScreenPorch         0\n",
              "PoolArea            0\n",
              "MiscVal             0\n",
              "YrSold              0\n",
              "SaleType            0\n",
              "SaleCondition       0\n",
              "SalePrice        1459\n",
              "dtype: int64"
            ]
          },
          "metadata": {
            "tags": []
          },
          "execution_count": 24
        }
      ]
    },
    {
      "cell_type": "code",
      "metadata": {
        "id": "-681PGCfqLcb",
        "colab_type": "code",
        "outputId": "0eef4ecc-ef3a-414b-8688-c92ca20f51fa",
        "colab": {
          "base_uri": "https://localhost:8080/",
          "height": 340
        }
      },
      "source": [
        "categorical_features = all_df.select_dtypes('object').columns.to_list()\n",
        "categorical_features"
      ],
      "execution_count": 0,
      "outputs": [
        {
          "output_type": "execute_result",
          "data": {
            "text/plain": [
              "['MSZoning',\n",
              " 'Street',\n",
              " 'LotShape',\n",
              " 'LandContour',\n",
              " 'Utilities',\n",
              " 'LotConfig',\n",
              " 'LandSlope',\n",
              " 'Neighborhood',\n",
              " 'BldgType',\n",
              " 'HouseStyle',\n",
              " 'RoofStyle',\n",
              " 'Foundation',\n",
              " 'BsmtQual',\n",
              " 'Heating',\n",
              " 'CentralAir',\n",
              " 'Electrical',\n",
              " 'GarageType',\n",
              " 'SaleType',\n",
              " 'SaleCondition']"
            ]
          },
          "metadata": {
            "tags": []
          },
          "execution_count": 25
        }
      ]
    },
    {
      "cell_type": "code",
      "metadata": {
        "id": "yA_HgsXurzZA",
        "colab_type": "code",
        "colab": {}
      },
      "source": [
        "df_with_dummies = pd.get_dummies(all_df, columns=categorical_features)"
      ],
      "execution_count": 0,
      "outputs": []
    },
    {
      "cell_type": "code",
      "metadata": {
        "id": "l6j5gbr6tDj-",
        "colab_type": "code",
        "outputId": "872372ac-dd64-47cb-cfbc-5d538fe7ed21",
        "colab": {
          "base_uri": "https://localhost:8080/",
          "height": 456
        }
      },
      "source": [
        "df_with_dummies"
      ],
      "execution_count": 0,
      "outputs": [
        {
          "output_type": "execute_result",
          "data": {
            "text/html": [
              "<div>\n",
              "<style scoped>\n",
              "    .dataframe tbody tr th:only-of-type {\n",
              "        vertical-align: middle;\n",
              "    }\n",
              "\n",
              "    .dataframe tbody tr th {\n",
              "        vertical-align: top;\n",
              "    }\n",
              "\n",
              "    .dataframe thead th {\n",
              "        text-align: right;\n",
              "    }\n",
              "</style>\n",
              "<table border=\"1\" class=\"dataframe\">\n",
              "  <thead>\n",
              "    <tr style=\"text-align: right;\">\n",
              "      <th></th>\n",
              "      <th>MSSubClass</th>\n",
              "      <th>LotFrontage</th>\n",
              "      <th>LotArea</th>\n",
              "      <th>OverallCond</th>\n",
              "      <th>YearBuilt</th>\n",
              "      <th>YearRemodAdd</th>\n",
              "      <th>MasVnrArea</th>\n",
              "      <th>TotalBsmtSF</th>\n",
              "      <th>1stFlrSF</th>\n",
              "      <th>2ndFlrSF</th>\n",
              "      <th>GrLivArea</th>\n",
              "      <th>BsmtFullBath</th>\n",
              "      <th>BsmtHalfBath</th>\n",
              "      <th>FullBath</th>\n",
              "      <th>HalfBath</th>\n",
              "      <th>BedroomAbvGr</th>\n",
              "      <th>KitchenAbvGr</th>\n",
              "      <th>TotRmsAbvGrd</th>\n",
              "      <th>GarageArea</th>\n",
              "      <th>WoodDeckSF</th>\n",
              "      <th>OpenPorchSF</th>\n",
              "      <th>EnclosedPorch</th>\n",
              "      <th>3SsnPorch</th>\n",
              "      <th>ScreenPorch</th>\n",
              "      <th>PoolArea</th>\n",
              "      <th>MiscVal</th>\n",
              "      <th>YrSold</th>\n",
              "      <th>SalePrice</th>\n",
              "      <th>MSZoning_C (all)</th>\n",
              "      <th>MSZoning_FV</th>\n",
              "      <th>MSZoning_RH</th>\n",
              "      <th>MSZoning_RL</th>\n",
              "      <th>MSZoning_RM</th>\n",
              "      <th>Street_Grvl</th>\n",
              "      <th>Street_Pave</th>\n",
              "      <th>LotShape_IR1</th>\n",
              "      <th>LotShape_IR2</th>\n",
              "      <th>LotShape_IR3</th>\n",
              "      <th>LotShape_Reg</th>\n",
              "      <th>LandContour_Bnk</th>\n",
              "      <th>...</th>\n",
              "      <th>Foundation_Stone</th>\n",
              "      <th>Foundation_Wood</th>\n",
              "      <th>BsmtQual_Ex</th>\n",
              "      <th>BsmtQual_Fa</th>\n",
              "      <th>BsmtQual_Gd</th>\n",
              "      <th>BsmtQual_TA</th>\n",
              "      <th>Heating_Floor</th>\n",
              "      <th>Heating_GasA</th>\n",
              "      <th>Heating_GasW</th>\n",
              "      <th>Heating_Grav</th>\n",
              "      <th>Heating_OthW</th>\n",
              "      <th>Heating_Wall</th>\n",
              "      <th>CentralAir_N</th>\n",
              "      <th>CentralAir_Y</th>\n",
              "      <th>Electrical_FuseA</th>\n",
              "      <th>Electrical_FuseF</th>\n",
              "      <th>Electrical_FuseP</th>\n",
              "      <th>Electrical_Mix</th>\n",
              "      <th>Electrical_SBrkr</th>\n",
              "      <th>GarageType_2Types</th>\n",
              "      <th>GarageType_Attchd</th>\n",
              "      <th>GarageType_Basment</th>\n",
              "      <th>GarageType_BuiltIn</th>\n",
              "      <th>GarageType_CarPort</th>\n",
              "      <th>GarageType_Detchd</th>\n",
              "      <th>SaleType_COD</th>\n",
              "      <th>SaleType_CWD</th>\n",
              "      <th>SaleType_Con</th>\n",
              "      <th>SaleType_ConLD</th>\n",
              "      <th>SaleType_ConLI</th>\n",
              "      <th>SaleType_ConLw</th>\n",
              "      <th>SaleType_New</th>\n",
              "      <th>SaleType_Oth</th>\n",
              "      <th>SaleType_WD</th>\n",
              "      <th>SaleCondition_Abnorml</th>\n",
              "      <th>SaleCondition_AdjLand</th>\n",
              "      <th>SaleCondition_Alloca</th>\n",
              "      <th>SaleCondition_Family</th>\n",
              "      <th>SaleCondition_Normal</th>\n",
              "      <th>SaleCondition_Partial</th>\n",
              "    </tr>\n",
              "  </thead>\n",
              "  <tbody>\n",
              "    <tr>\n",
              "      <th>0</th>\n",
              "      <td>4.094345</td>\n",
              "      <td>4.174387</td>\n",
              "      <td>9.041922</td>\n",
              "      <td>5</td>\n",
              "      <td>7.602401</td>\n",
              "      <td>7.602401</td>\n",
              "      <td>5.278115</td>\n",
              "      <td>6.752270</td>\n",
              "      <td>6.752270</td>\n",
              "      <td>6.749931</td>\n",
              "      <td>7.444249</td>\n",
              "      <td>1.0</td>\n",
              "      <td>0.0</td>\n",
              "      <td>2</td>\n",
              "      <td>1</td>\n",
              "      <td>3</td>\n",
              "      <td>1</td>\n",
              "      <td>8</td>\n",
              "      <td>6.306275</td>\n",
              "      <td>0.000000</td>\n",
              "      <td>4.110874</td>\n",
              "      <td>0</td>\n",
              "      <td>0</td>\n",
              "      <td>0</td>\n",
              "      <td>0</td>\n",
              "      <td>0</td>\n",
              "      <td>2008</td>\n",
              "      <td>208500.0</td>\n",
              "      <td>0</td>\n",
              "      <td>0</td>\n",
              "      <td>0</td>\n",
              "      <td>1</td>\n",
              "      <td>0</td>\n",
              "      <td>0</td>\n",
              "      <td>1</td>\n",
              "      <td>0</td>\n",
              "      <td>0</td>\n",
              "      <td>0</td>\n",
              "      <td>1</td>\n",
              "      <td>0</td>\n",
              "      <td>...</td>\n",
              "      <td>0</td>\n",
              "      <td>0</td>\n",
              "      <td>0</td>\n",
              "      <td>0</td>\n",
              "      <td>1</td>\n",
              "      <td>0</td>\n",
              "      <td>0</td>\n",
              "      <td>1</td>\n",
              "      <td>0</td>\n",
              "      <td>0</td>\n",
              "      <td>0</td>\n",
              "      <td>0</td>\n",
              "      <td>0</td>\n",
              "      <td>1</td>\n",
              "      <td>0</td>\n",
              "      <td>0</td>\n",
              "      <td>0</td>\n",
              "      <td>0</td>\n",
              "      <td>1</td>\n",
              "      <td>0</td>\n",
              "      <td>1</td>\n",
              "      <td>0</td>\n",
              "      <td>0</td>\n",
              "      <td>0</td>\n",
              "      <td>0</td>\n",
              "      <td>0</td>\n",
              "      <td>0</td>\n",
              "      <td>0</td>\n",
              "      <td>0</td>\n",
              "      <td>0</td>\n",
              "      <td>0</td>\n",
              "      <td>0</td>\n",
              "      <td>0</td>\n",
              "      <td>1</td>\n",
              "      <td>0</td>\n",
              "      <td>0</td>\n",
              "      <td>0</td>\n",
              "      <td>0</td>\n",
              "      <td>1</td>\n",
              "      <td>0</td>\n",
              "    </tr>\n",
              "    <tr>\n",
              "      <th>1</th>\n",
              "      <td>2.995732</td>\n",
              "      <td>4.382027</td>\n",
              "      <td>9.169518</td>\n",
              "      <td>8</td>\n",
              "      <td>7.588830</td>\n",
              "      <td>7.588830</td>\n",
              "      <td>0.000000</td>\n",
              "      <td>7.140453</td>\n",
              "      <td>7.140453</td>\n",
              "      <td>0.000000</td>\n",
              "      <td>7.140453</td>\n",
              "      <td>0.0</td>\n",
              "      <td>1.0</td>\n",
              "      <td>2</td>\n",
              "      <td>0</td>\n",
              "      <td>3</td>\n",
              "      <td>1</td>\n",
              "      <td>6</td>\n",
              "      <td>6.131226</td>\n",
              "      <td>5.697093</td>\n",
              "      <td>0.000000</td>\n",
              "      <td>0</td>\n",
              "      <td>0</td>\n",
              "      <td>0</td>\n",
              "      <td>0</td>\n",
              "      <td>0</td>\n",
              "      <td>2007</td>\n",
              "      <td>181500.0</td>\n",
              "      <td>0</td>\n",
              "      <td>0</td>\n",
              "      <td>0</td>\n",
              "      <td>1</td>\n",
              "      <td>0</td>\n",
              "      <td>0</td>\n",
              "      <td>1</td>\n",
              "      <td>0</td>\n",
              "      <td>0</td>\n",
              "      <td>0</td>\n",
              "      <td>1</td>\n",
              "      <td>0</td>\n",
              "      <td>...</td>\n",
              "      <td>0</td>\n",
              "      <td>0</td>\n",
              "      <td>0</td>\n",
              "      <td>0</td>\n",
              "      <td>1</td>\n",
              "      <td>0</td>\n",
              "      <td>0</td>\n",
              "      <td>1</td>\n",
              "      <td>0</td>\n",
              "      <td>0</td>\n",
              "      <td>0</td>\n",
              "      <td>0</td>\n",
              "      <td>0</td>\n",
              "      <td>1</td>\n",
              "      <td>0</td>\n",
              "      <td>0</td>\n",
              "      <td>0</td>\n",
              "      <td>0</td>\n",
              "      <td>1</td>\n",
              "      <td>0</td>\n",
              "      <td>1</td>\n",
              "      <td>0</td>\n",
              "      <td>0</td>\n",
              "      <td>0</td>\n",
              "      <td>0</td>\n",
              "      <td>0</td>\n",
              "      <td>0</td>\n",
              "      <td>0</td>\n",
              "      <td>0</td>\n",
              "      <td>0</td>\n",
              "      <td>0</td>\n",
              "      <td>0</td>\n",
              "      <td>0</td>\n",
              "      <td>1</td>\n",
              "      <td>0</td>\n",
              "      <td>0</td>\n",
              "      <td>0</td>\n",
              "      <td>0</td>\n",
              "      <td>1</td>\n",
              "      <td>0</td>\n",
              "    </tr>\n",
              "    <tr>\n",
              "      <th>2</th>\n",
              "      <td>4.094345</td>\n",
              "      <td>4.219508</td>\n",
              "      <td>9.328123</td>\n",
              "      <td>5</td>\n",
              "      <td>7.601402</td>\n",
              "      <td>7.601902</td>\n",
              "      <td>5.087596</td>\n",
              "      <td>6.824374</td>\n",
              "      <td>6.824374</td>\n",
              "      <td>6.763885</td>\n",
              "      <td>7.487734</td>\n",
              "      <td>1.0</td>\n",
              "      <td>0.0</td>\n",
              "      <td>2</td>\n",
              "      <td>1</td>\n",
              "      <td>3</td>\n",
              "      <td>1</td>\n",
              "      <td>6</td>\n",
              "      <td>6.410175</td>\n",
              "      <td>0.000000</td>\n",
              "      <td>3.737670</td>\n",
              "      <td>0</td>\n",
              "      <td>0</td>\n",
              "      <td>0</td>\n",
              "      <td>0</td>\n",
              "      <td>0</td>\n",
              "      <td>2008</td>\n",
              "      <td>223500.0</td>\n",
              "      <td>0</td>\n",
              "      <td>0</td>\n",
              "      <td>0</td>\n",
              "      <td>1</td>\n",
              "      <td>0</td>\n",
              "      <td>0</td>\n",
              "      <td>1</td>\n",
              "      <td>1</td>\n",
              "      <td>0</td>\n",
              "      <td>0</td>\n",
              "      <td>0</td>\n",
              "      <td>0</td>\n",
              "      <td>...</td>\n",
              "      <td>0</td>\n",
              "      <td>0</td>\n",
              "      <td>0</td>\n",
              "      <td>0</td>\n",
              "      <td>1</td>\n",
              "      <td>0</td>\n",
              "      <td>0</td>\n",
              "      <td>1</td>\n",
              "      <td>0</td>\n",
              "      <td>0</td>\n",
              "      <td>0</td>\n",
              "      <td>0</td>\n",
              "      <td>0</td>\n",
              "      <td>1</td>\n",
              "      <td>0</td>\n",
              "      <td>0</td>\n",
              "      <td>0</td>\n",
              "      <td>0</td>\n",
              "      <td>1</td>\n",
              "      <td>0</td>\n",
              "      <td>1</td>\n",
              "      <td>0</td>\n",
              "      <td>0</td>\n",
              "      <td>0</td>\n",
              "      <td>0</td>\n",
              "      <td>0</td>\n",
              "      <td>0</td>\n",
              "      <td>0</td>\n",
              "      <td>0</td>\n",
              "      <td>0</td>\n",
              "      <td>0</td>\n",
              "      <td>0</td>\n",
              "      <td>0</td>\n",
              "      <td>1</td>\n",
              "      <td>0</td>\n",
              "      <td>0</td>\n",
              "      <td>0</td>\n",
              "      <td>0</td>\n",
              "      <td>1</td>\n",
              "      <td>0</td>\n",
              "    </tr>\n",
              "    <tr>\n",
              "      <th>3</th>\n",
              "      <td>4.248495</td>\n",
              "      <td>4.094345</td>\n",
              "      <td>9.164296</td>\n",
              "      <td>5</td>\n",
              "      <td>7.557473</td>\n",
              "      <td>7.585789</td>\n",
              "      <td>0.000000</td>\n",
              "      <td>6.628041</td>\n",
              "      <td>6.867974</td>\n",
              "      <td>6.628041</td>\n",
              "      <td>7.448334</td>\n",
              "      <td>1.0</td>\n",
              "      <td>0.0</td>\n",
              "      <td>1</td>\n",
              "      <td>0</td>\n",
              "      <td>3</td>\n",
              "      <td>1</td>\n",
              "      <td>7</td>\n",
              "      <td>6.464588</td>\n",
              "      <td>0.000000</td>\n",
              "      <td>3.555348</td>\n",
              "      <td>272</td>\n",
              "      <td>0</td>\n",
              "      <td>0</td>\n",
              "      <td>0</td>\n",
              "      <td>0</td>\n",
              "      <td>2006</td>\n",
              "      <td>140000.0</td>\n",
              "      <td>0</td>\n",
              "      <td>0</td>\n",
              "      <td>0</td>\n",
              "      <td>1</td>\n",
              "      <td>0</td>\n",
              "      <td>0</td>\n",
              "      <td>1</td>\n",
              "      <td>1</td>\n",
              "      <td>0</td>\n",
              "      <td>0</td>\n",
              "      <td>0</td>\n",
              "      <td>0</td>\n",
              "      <td>...</td>\n",
              "      <td>0</td>\n",
              "      <td>0</td>\n",
              "      <td>0</td>\n",
              "      <td>0</td>\n",
              "      <td>0</td>\n",
              "      <td>1</td>\n",
              "      <td>0</td>\n",
              "      <td>1</td>\n",
              "      <td>0</td>\n",
              "      <td>0</td>\n",
              "      <td>0</td>\n",
              "      <td>0</td>\n",
              "      <td>0</td>\n",
              "      <td>1</td>\n",
              "      <td>0</td>\n",
              "      <td>0</td>\n",
              "      <td>0</td>\n",
              "      <td>0</td>\n",
              "      <td>1</td>\n",
              "      <td>0</td>\n",
              "      <td>0</td>\n",
              "      <td>0</td>\n",
              "      <td>0</td>\n",
              "      <td>0</td>\n",
              "      <td>1</td>\n",
              "      <td>0</td>\n",
              "      <td>0</td>\n",
              "      <td>0</td>\n",
              "      <td>0</td>\n",
              "      <td>0</td>\n",
              "      <td>0</td>\n",
              "      <td>0</td>\n",
              "      <td>0</td>\n",
              "      <td>1</td>\n",
              "      <td>1</td>\n",
              "      <td>0</td>\n",
              "      <td>0</td>\n",
              "      <td>0</td>\n",
              "      <td>0</td>\n",
              "      <td>0</td>\n",
              "    </tr>\n",
              "    <tr>\n",
              "      <th>4</th>\n",
              "      <td>4.094345</td>\n",
              "      <td>4.430817</td>\n",
              "      <td>9.565214</td>\n",
              "      <td>5</td>\n",
              "      <td>7.600902</td>\n",
              "      <td>7.600902</td>\n",
              "      <td>5.857933</td>\n",
              "      <td>7.043160</td>\n",
              "      <td>7.043160</td>\n",
              "      <td>6.959399</td>\n",
              "      <td>7.695303</td>\n",
              "      <td>1.0</td>\n",
              "      <td>0.0</td>\n",
              "      <td>2</td>\n",
              "      <td>1</td>\n",
              "      <td>4</td>\n",
              "      <td>1</td>\n",
              "      <td>9</td>\n",
              "      <td>6.728629</td>\n",
              "      <td>5.257495</td>\n",
              "      <td>4.430817</td>\n",
              "      <td>0</td>\n",
              "      <td>0</td>\n",
              "      <td>0</td>\n",
              "      <td>0</td>\n",
              "      <td>0</td>\n",
              "      <td>2008</td>\n",
              "      <td>250000.0</td>\n",
              "      <td>0</td>\n",
              "      <td>0</td>\n",
              "      <td>0</td>\n",
              "      <td>1</td>\n",
              "      <td>0</td>\n",
              "      <td>0</td>\n",
              "      <td>1</td>\n",
              "      <td>1</td>\n",
              "      <td>0</td>\n",
              "      <td>0</td>\n",
              "      <td>0</td>\n",
              "      <td>0</td>\n",
              "      <td>...</td>\n",
              "      <td>0</td>\n",
              "      <td>0</td>\n",
              "      <td>0</td>\n",
              "      <td>0</td>\n",
              "      <td>1</td>\n",
              "      <td>0</td>\n",
              "      <td>0</td>\n",
              "      <td>1</td>\n",
              "      <td>0</td>\n",
              "      <td>0</td>\n",
              "      <td>0</td>\n",
              "      <td>0</td>\n",
              "      <td>0</td>\n",
              "      <td>1</td>\n",
              "      <td>0</td>\n",
              "      <td>0</td>\n",
              "      <td>0</td>\n",
              "      <td>0</td>\n",
              "      <td>1</td>\n",
              "      <td>0</td>\n",
              "      <td>1</td>\n",
              "      <td>0</td>\n",
              "      <td>0</td>\n",
              "      <td>0</td>\n",
              "      <td>0</td>\n",
              "      <td>0</td>\n",
              "      <td>0</td>\n",
              "      <td>0</td>\n",
              "      <td>0</td>\n",
              "      <td>0</td>\n",
              "      <td>0</td>\n",
              "      <td>0</td>\n",
              "      <td>0</td>\n",
              "      <td>1</td>\n",
              "      <td>0</td>\n",
              "      <td>0</td>\n",
              "      <td>0</td>\n",
              "      <td>0</td>\n",
              "      <td>1</td>\n",
              "      <td>0</td>\n",
              "    </tr>\n",
              "    <tr>\n",
              "      <th>...</th>\n",
              "      <td>...</td>\n",
              "      <td>...</td>\n",
              "      <td>...</td>\n",
              "      <td>...</td>\n",
              "      <td>...</td>\n",
              "      <td>...</td>\n",
              "      <td>...</td>\n",
              "      <td>...</td>\n",
              "      <td>...</td>\n",
              "      <td>...</td>\n",
              "      <td>...</td>\n",
              "      <td>...</td>\n",
              "      <td>...</td>\n",
              "      <td>...</td>\n",
              "      <td>...</td>\n",
              "      <td>...</td>\n",
              "      <td>...</td>\n",
              "      <td>...</td>\n",
              "      <td>...</td>\n",
              "      <td>...</td>\n",
              "      <td>...</td>\n",
              "      <td>...</td>\n",
              "      <td>...</td>\n",
              "      <td>...</td>\n",
              "      <td>...</td>\n",
              "      <td>...</td>\n",
              "      <td>...</td>\n",
              "      <td>...</td>\n",
              "      <td>...</td>\n",
              "      <td>...</td>\n",
              "      <td>...</td>\n",
              "      <td>...</td>\n",
              "      <td>...</td>\n",
              "      <td>...</td>\n",
              "      <td>...</td>\n",
              "      <td>...</td>\n",
              "      <td>...</td>\n",
              "      <td>...</td>\n",
              "      <td>...</td>\n",
              "      <td>...</td>\n",
              "      <td>...</td>\n",
              "      <td>...</td>\n",
              "      <td>...</td>\n",
              "      <td>...</td>\n",
              "      <td>...</td>\n",
              "      <td>...</td>\n",
              "      <td>...</td>\n",
              "      <td>...</td>\n",
              "      <td>...</td>\n",
              "      <td>...</td>\n",
              "      <td>...</td>\n",
              "      <td>...</td>\n",
              "      <td>...</td>\n",
              "      <td>...</td>\n",
              "      <td>...</td>\n",
              "      <td>...</td>\n",
              "      <td>...</td>\n",
              "      <td>...</td>\n",
              "      <td>...</td>\n",
              "      <td>...</td>\n",
              "      <td>...</td>\n",
              "      <td>...</td>\n",
              "      <td>...</td>\n",
              "      <td>...</td>\n",
              "      <td>...</td>\n",
              "      <td>...</td>\n",
              "      <td>...</td>\n",
              "      <td>...</td>\n",
              "      <td>...</td>\n",
              "      <td>...</td>\n",
              "      <td>...</td>\n",
              "      <td>...</td>\n",
              "      <td>...</td>\n",
              "      <td>...</td>\n",
              "      <td>...</td>\n",
              "      <td>...</td>\n",
              "      <td>...</td>\n",
              "      <td>...</td>\n",
              "      <td>...</td>\n",
              "      <td>...</td>\n",
              "      <td>...</td>\n",
              "    </tr>\n",
              "    <tr>\n",
              "      <th>1454</th>\n",
              "      <td>5.075174</td>\n",
              "      <td>3.044522</td>\n",
              "      <td>7.568379</td>\n",
              "      <td>7</td>\n",
              "      <td>7.585789</td>\n",
              "      <td>7.585789</td>\n",
              "      <td>0.000000</td>\n",
              "      <td>6.302619</td>\n",
              "      <td>6.302619</td>\n",
              "      <td>6.302619</td>\n",
              "      <td>6.995766</td>\n",
              "      <td>0.0</td>\n",
              "      <td>0.0</td>\n",
              "      <td>1</td>\n",
              "      <td>1</td>\n",
              "      <td>3</td>\n",
              "      <td>1</td>\n",
              "      <td>5</td>\n",
              "      <td>0.000000</td>\n",
              "      <td>0.000000</td>\n",
              "      <td>0.000000</td>\n",
              "      <td>0</td>\n",
              "      <td>0</td>\n",
              "      <td>0</td>\n",
              "      <td>0</td>\n",
              "      <td>0</td>\n",
              "      <td>2006</td>\n",
              "      <td>NaN</td>\n",
              "      <td>0</td>\n",
              "      <td>0</td>\n",
              "      <td>0</td>\n",
              "      <td>0</td>\n",
              "      <td>1</td>\n",
              "      <td>0</td>\n",
              "      <td>1</td>\n",
              "      <td>0</td>\n",
              "      <td>0</td>\n",
              "      <td>0</td>\n",
              "      <td>1</td>\n",
              "      <td>0</td>\n",
              "      <td>...</td>\n",
              "      <td>0</td>\n",
              "      <td>0</td>\n",
              "      <td>0</td>\n",
              "      <td>0</td>\n",
              "      <td>0</td>\n",
              "      <td>1</td>\n",
              "      <td>0</td>\n",
              "      <td>1</td>\n",
              "      <td>0</td>\n",
              "      <td>0</td>\n",
              "      <td>0</td>\n",
              "      <td>0</td>\n",
              "      <td>0</td>\n",
              "      <td>1</td>\n",
              "      <td>0</td>\n",
              "      <td>0</td>\n",
              "      <td>0</td>\n",
              "      <td>0</td>\n",
              "      <td>1</td>\n",
              "      <td>0</td>\n",
              "      <td>0</td>\n",
              "      <td>0</td>\n",
              "      <td>0</td>\n",
              "      <td>0</td>\n",
              "      <td>1</td>\n",
              "      <td>0</td>\n",
              "      <td>0</td>\n",
              "      <td>0</td>\n",
              "      <td>0</td>\n",
              "      <td>0</td>\n",
              "      <td>0</td>\n",
              "      <td>0</td>\n",
              "      <td>0</td>\n",
              "      <td>1</td>\n",
              "      <td>0</td>\n",
              "      <td>0</td>\n",
              "      <td>0</td>\n",
              "      <td>0</td>\n",
              "      <td>1</td>\n",
              "      <td>0</td>\n",
              "    </tr>\n",
              "    <tr>\n",
              "      <th>1455</th>\n",
              "      <td>5.075174</td>\n",
              "      <td>3.044522</td>\n",
              "      <td>7.546446</td>\n",
              "      <td>5</td>\n",
              "      <td>7.585789</td>\n",
              "      <td>7.585789</td>\n",
              "      <td>0.000000</td>\n",
              "      <td>6.302619</td>\n",
              "      <td>6.302619</td>\n",
              "      <td>6.302619</td>\n",
              "      <td>6.995766</td>\n",
              "      <td>0.0</td>\n",
              "      <td>0.0</td>\n",
              "      <td>1</td>\n",
              "      <td>1</td>\n",
              "      <td>3</td>\n",
              "      <td>1</td>\n",
              "      <td>6</td>\n",
              "      <td>5.655992</td>\n",
              "      <td>0.000000</td>\n",
              "      <td>3.178054</td>\n",
              "      <td>0</td>\n",
              "      <td>0</td>\n",
              "      <td>0</td>\n",
              "      <td>0</td>\n",
              "      <td>0</td>\n",
              "      <td>2006</td>\n",
              "      <td>NaN</td>\n",
              "      <td>0</td>\n",
              "      <td>0</td>\n",
              "      <td>0</td>\n",
              "      <td>0</td>\n",
              "      <td>1</td>\n",
              "      <td>0</td>\n",
              "      <td>1</td>\n",
              "      <td>0</td>\n",
              "      <td>0</td>\n",
              "      <td>0</td>\n",
              "      <td>1</td>\n",
              "      <td>0</td>\n",
              "      <td>...</td>\n",
              "      <td>0</td>\n",
              "      <td>0</td>\n",
              "      <td>0</td>\n",
              "      <td>0</td>\n",
              "      <td>0</td>\n",
              "      <td>1</td>\n",
              "      <td>0</td>\n",
              "      <td>1</td>\n",
              "      <td>0</td>\n",
              "      <td>0</td>\n",
              "      <td>0</td>\n",
              "      <td>0</td>\n",
              "      <td>0</td>\n",
              "      <td>1</td>\n",
              "      <td>0</td>\n",
              "      <td>0</td>\n",
              "      <td>0</td>\n",
              "      <td>0</td>\n",
              "      <td>1</td>\n",
              "      <td>0</td>\n",
              "      <td>0</td>\n",
              "      <td>0</td>\n",
              "      <td>0</td>\n",
              "      <td>1</td>\n",
              "      <td>0</td>\n",
              "      <td>0</td>\n",
              "      <td>0</td>\n",
              "      <td>0</td>\n",
              "      <td>0</td>\n",
              "      <td>0</td>\n",
              "      <td>0</td>\n",
              "      <td>0</td>\n",
              "      <td>0</td>\n",
              "      <td>1</td>\n",
              "      <td>1</td>\n",
              "      <td>0</td>\n",
              "      <td>0</td>\n",
              "      <td>0</td>\n",
              "      <td>0</td>\n",
              "      <td>0</td>\n",
              "    </tr>\n",
              "    <tr>\n",
              "      <th>1456</th>\n",
              "      <td>2.995732</td>\n",
              "      <td>5.075174</td>\n",
              "      <td>9.903488</td>\n",
              "      <td>7</td>\n",
              "      <td>7.580700</td>\n",
              "      <td>7.598900</td>\n",
              "      <td>0.000000</td>\n",
              "      <td>7.109879</td>\n",
              "      <td>7.109879</td>\n",
              "      <td>0.000000</td>\n",
              "      <td>7.109879</td>\n",
              "      <td>1.0</td>\n",
              "      <td>0.0</td>\n",
              "      <td>1</td>\n",
              "      <td>0</td>\n",
              "      <td>4</td>\n",
              "      <td>1</td>\n",
              "      <td>7</td>\n",
              "      <td>6.356108</td>\n",
              "      <td>6.161207</td>\n",
              "      <td>0.000000</td>\n",
              "      <td>0</td>\n",
              "      <td>0</td>\n",
              "      <td>0</td>\n",
              "      <td>0</td>\n",
              "      <td>0</td>\n",
              "      <td>2006</td>\n",
              "      <td>NaN</td>\n",
              "      <td>0</td>\n",
              "      <td>0</td>\n",
              "      <td>0</td>\n",
              "      <td>1</td>\n",
              "      <td>0</td>\n",
              "      <td>0</td>\n",
              "      <td>1</td>\n",
              "      <td>0</td>\n",
              "      <td>0</td>\n",
              "      <td>0</td>\n",
              "      <td>1</td>\n",
              "      <td>0</td>\n",
              "      <td>...</td>\n",
              "      <td>0</td>\n",
              "      <td>0</td>\n",
              "      <td>0</td>\n",
              "      <td>0</td>\n",
              "      <td>0</td>\n",
              "      <td>1</td>\n",
              "      <td>0</td>\n",
              "      <td>1</td>\n",
              "      <td>0</td>\n",
              "      <td>0</td>\n",
              "      <td>0</td>\n",
              "      <td>0</td>\n",
              "      <td>0</td>\n",
              "      <td>1</td>\n",
              "      <td>0</td>\n",
              "      <td>0</td>\n",
              "      <td>0</td>\n",
              "      <td>0</td>\n",
              "      <td>1</td>\n",
              "      <td>0</td>\n",
              "      <td>0</td>\n",
              "      <td>0</td>\n",
              "      <td>0</td>\n",
              "      <td>0</td>\n",
              "      <td>1</td>\n",
              "      <td>0</td>\n",
              "      <td>0</td>\n",
              "      <td>0</td>\n",
              "      <td>0</td>\n",
              "      <td>0</td>\n",
              "      <td>0</td>\n",
              "      <td>0</td>\n",
              "      <td>0</td>\n",
              "      <td>1</td>\n",
              "      <td>1</td>\n",
              "      <td>0</td>\n",
              "      <td>0</td>\n",
              "      <td>0</td>\n",
              "      <td>0</td>\n",
              "      <td>0</td>\n",
              "    </tr>\n",
              "    <tr>\n",
              "      <th>1457</th>\n",
              "      <td>4.442651</td>\n",
              "      <td>4.127134</td>\n",
              "      <td>9.253496</td>\n",
              "      <td>5</td>\n",
              "      <td>7.596894</td>\n",
              "      <td>7.596894</td>\n",
              "      <td>0.000000</td>\n",
              "      <td>6.815640</td>\n",
              "      <td>6.877296</td>\n",
              "      <td>0.000000</td>\n",
              "      <td>6.877296</td>\n",
              "      <td>0.0</td>\n",
              "      <td>1.0</td>\n",
              "      <td>1</td>\n",
              "      <td>0</td>\n",
              "      <td>3</td>\n",
              "      <td>1</td>\n",
              "      <td>6</td>\n",
              "      <td>0.000000</td>\n",
              "      <td>4.382027</td>\n",
              "      <td>3.465736</td>\n",
              "      <td>0</td>\n",
              "      <td>0</td>\n",
              "      <td>0</td>\n",
              "      <td>0</td>\n",
              "      <td>700</td>\n",
              "      <td>2006</td>\n",
              "      <td>NaN</td>\n",
              "      <td>0</td>\n",
              "      <td>0</td>\n",
              "      <td>0</td>\n",
              "      <td>1</td>\n",
              "      <td>0</td>\n",
              "      <td>0</td>\n",
              "      <td>1</td>\n",
              "      <td>0</td>\n",
              "      <td>0</td>\n",
              "      <td>0</td>\n",
              "      <td>1</td>\n",
              "      <td>0</td>\n",
              "      <td>...</td>\n",
              "      <td>0</td>\n",
              "      <td>0</td>\n",
              "      <td>0</td>\n",
              "      <td>0</td>\n",
              "      <td>1</td>\n",
              "      <td>0</td>\n",
              "      <td>0</td>\n",
              "      <td>1</td>\n",
              "      <td>0</td>\n",
              "      <td>0</td>\n",
              "      <td>0</td>\n",
              "      <td>0</td>\n",
              "      <td>0</td>\n",
              "      <td>1</td>\n",
              "      <td>0</td>\n",
              "      <td>0</td>\n",
              "      <td>0</td>\n",
              "      <td>0</td>\n",
              "      <td>1</td>\n",
              "      <td>0</td>\n",
              "      <td>1</td>\n",
              "      <td>0</td>\n",
              "      <td>0</td>\n",
              "      <td>0</td>\n",
              "      <td>0</td>\n",
              "      <td>0</td>\n",
              "      <td>0</td>\n",
              "      <td>0</td>\n",
              "      <td>0</td>\n",
              "      <td>0</td>\n",
              "      <td>0</td>\n",
              "      <td>0</td>\n",
              "      <td>0</td>\n",
              "      <td>1</td>\n",
              "      <td>0</td>\n",
              "      <td>0</td>\n",
              "      <td>0</td>\n",
              "      <td>0</td>\n",
              "      <td>1</td>\n",
              "      <td>0</td>\n",
              "    </tr>\n",
              "    <tr>\n",
              "      <th>1458</th>\n",
              "      <td>4.094345</td>\n",
              "      <td>4.304065</td>\n",
              "      <td>9.172327</td>\n",
              "      <td>5</td>\n",
              "      <td>7.597396</td>\n",
              "      <td>7.597898</td>\n",
              "      <td>4.543295</td>\n",
              "      <td>6.903747</td>\n",
              "      <td>6.903747</td>\n",
              "      <td>6.911747</td>\n",
              "      <td>7.600902</td>\n",
              "      <td>0.0</td>\n",
              "      <td>0.0</td>\n",
              "      <td>2</td>\n",
              "      <td>1</td>\n",
              "      <td>3</td>\n",
              "      <td>1</td>\n",
              "      <td>9</td>\n",
              "      <td>6.476972</td>\n",
              "      <td>5.247024</td>\n",
              "      <td>3.871201</td>\n",
              "      <td>0</td>\n",
              "      <td>0</td>\n",
              "      <td>0</td>\n",
              "      <td>0</td>\n",
              "      <td>0</td>\n",
              "      <td>2006</td>\n",
              "      <td>NaN</td>\n",
              "      <td>0</td>\n",
              "      <td>0</td>\n",
              "      <td>0</td>\n",
              "      <td>1</td>\n",
              "      <td>0</td>\n",
              "      <td>0</td>\n",
              "      <td>1</td>\n",
              "      <td>0</td>\n",
              "      <td>0</td>\n",
              "      <td>0</td>\n",
              "      <td>1</td>\n",
              "      <td>0</td>\n",
              "      <td>...</td>\n",
              "      <td>0</td>\n",
              "      <td>0</td>\n",
              "      <td>0</td>\n",
              "      <td>0</td>\n",
              "      <td>1</td>\n",
              "      <td>0</td>\n",
              "      <td>0</td>\n",
              "      <td>1</td>\n",
              "      <td>0</td>\n",
              "      <td>0</td>\n",
              "      <td>0</td>\n",
              "      <td>0</td>\n",
              "      <td>0</td>\n",
              "      <td>1</td>\n",
              "      <td>0</td>\n",
              "      <td>0</td>\n",
              "      <td>0</td>\n",
              "      <td>0</td>\n",
              "      <td>1</td>\n",
              "      <td>0</td>\n",
              "      <td>1</td>\n",
              "      <td>0</td>\n",
              "      <td>0</td>\n",
              "      <td>0</td>\n",
              "      <td>0</td>\n",
              "      <td>0</td>\n",
              "      <td>0</td>\n",
              "      <td>0</td>\n",
              "      <td>0</td>\n",
              "      <td>0</td>\n",
              "      <td>0</td>\n",
              "      <td>0</td>\n",
              "      <td>0</td>\n",
              "      <td>1</td>\n",
              "      <td>0</td>\n",
              "      <td>0</td>\n",
              "      <td>0</td>\n",
              "      <td>0</td>\n",
              "      <td>1</td>\n",
              "      <td>0</td>\n",
              "    </tr>\n",
              "  </tbody>\n",
              "</table>\n",
              "<p>2919 rows × 141 columns</p>\n",
              "</div>"
            ],
            "text/plain": [
              "      MSSubClass  LotFrontage  ...  SaleCondition_Normal  SaleCondition_Partial\n",
              "0       4.094345     4.174387  ...                     1                      0\n",
              "1       2.995732     4.382027  ...                     1                      0\n",
              "2       4.094345     4.219508  ...                     1                      0\n",
              "3       4.248495     4.094345  ...                     0                      0\n",
              "4       4.094345     4.430817  ...                     1                      0\n",
              "...          ...          ...  ...                   ...                    ...\n",
              "1454    5.075174     3.044522  ...                     1                      0\n",
              "1455    5.075174     3.044522  ...                     0                      0\n",
              "1456    2.995732     5.075174  ...                     0                      0\n",
              "1457    4.442651     4.127134  ...                     1                      0\n",
              "1458    4.094345     4.304065  ...                     1                      0\n",
              "\n",
              "[2919 rows x 141 columns]"
            ]
          },
          "metadata": {
            "tags": []
          },
          "execution_count": 34
        }
      ]
    },
    {
      "cell_type": "markdown",
      "metadata": {
        "id": "kYnoa3gRGqut",
        "colab_type": "text"
      },
      "source": [
        "#Split the all_data to train and test set"
      ]
    },
    {
      "cell_type": "code",
      "metadata": {
        "id": "ORu9mkK8GwPi",
        "colab_type": "code",
        "colab": {}
      },
      "source": [
        "train_df = df_with_dummies [:1460]\n",
        "test_df = df_with_dummies [2919-1459:]"
      ],
      "execution_count": 0,
      "outputs": []
    },
    {
      "cell_type": "code",
      "metadata": {
        "id": "Gt3knXMVJ3hn",
        "colab_type": "code",
        "colab": {}
      },
      "source": [
        "train_df_X= train_df.drop('SalePrice', axis=1)\n",
        "test_df_X= test_df.drop('SalePrice', axis=1)\n",
        "train_y = train_df.SalePrice"
      ],
      "execution_count": 0,
      "outputs": []
    },
    {
      "cell_type": "markdown",
      "metadata": {
        "id": "SB3t3op3dxfm",
        "colab_type": "text"
      },
      "source": [
        "# Scale the attributes with MinMax Scaler"
      ]
    },
    {
      "cell_type": "code",
      "metadata": {
        "id": "JJtwxszOtTB0",
        "colab_type": "code",
        "colab": {}
      },
      "source": [
        "from sklearn.preprocessing import MinMaxScaler\n",
        "scaler = MinMaxScaler()"
      ],
      "execution_count": 0,
      "outputs": []
    },
    {
      "cell_type": "code",
      "metadata": {
        "id": "yPPZZPMOtyVp",
        "colab_type": "code",
        "colab": {}
      },
      "source": [
        "final_X_train = train_df_X.copy()\n",
        "final_X_test = test_df_X.copy()\n"
      ],
      "execution_count": 0,
      "outputs": []
    },
    {
      "cell_type": "code",
      "metadata": {
        "id": "synRKITHt64r",
        "colab_type": "code",
        "outputId": "157c2dda-9f12-45b3-8d15-9bd35113cde1",
        "colab": {
          "base_uri": "https://localhost:8080/",
          "height": 238
        }
      },
      "source": [
        "final_X_train=scaler.fit_transform(final_X_train)\n",
        "final_X_train"
      ],
      "execution_count": 0,
      "outputs": [
        {
          "output_type": "execute_result",
          "data": {
            "text/plain": [
              "array([[0.48799196, 0.41820812, 0.3663439 , ..., 0.        , 1.        ,\n",
              "        0.        ],\n",
              "       [0.        , 0.49506375, 0.39131677, ..., 0.        , 1.        ,\n",
              "        0.        ],\n",
              "       [0.48799196, 0.434909  , 0.4223585 , ..., 0.        , 1.        ,\n",
              "        0.        ],\n",
              "       ...,\n",
              "       [0.55646406, 0.42385922, 0.37959669, ..., 0.        , 1.        ,\n",
              "        0.        ],\n",
              "       [0.        , 0.434909  , 0.39368765, ..., 0.        , 1.        ,\n",
              "        0.        ],\n",
              "       [0.        , 0.47117546, 0.39806941, ..., 0.        , 1.        ,\n",
              "        0.        ]])"
            ]
          },
          "metadata": {
            "tags": []
          },
          "execution_count": 31
        }
      ]
    },
    {
      "cell_type": "markdown",
      "metadata": {
        "id": "ofpHMkDl9vGe",
        "colab_type": "text"
      },
      "source": [
        "# Find the important Features with Random Forest Classifier \n",
        "( for the purpos of knowing which features play an important rull in our prediction process)"
      ]
    },
    {
      "cell_type": "code",
      "metadata": {
        "id": "SWEU89sSv73k",
        "colab_type": "code",
        "colab": {}
      },
      "source": [
        "from sklearn.ensemble import RandomForestClassifier\n",
        "rnd_clf = RandomForestClassifier(n_estimators = 200, n_jobs=-1)\n",
        "\n",
        "rnd_clf.fit(final_X_train,train_y)\n",
        "importances = pd.DataFrame({'feature': train_df_X.columns, 'importance': np.round(rnd_clf.feature_importances_,3)})\n",
        "importances= importances.sort_values('importance', ascending = False).set_index('feature')\n"
      ],
      "execution_count": 0,
      "outputs": []
    },
    {
      "cell_type": "code",
      "metadata": {
        "id": "FfpwIefyv6dD",
        "colab_type": "code",
        "outputId": "8d2e07b1-b594-49b8-8f39-8d62fd6fe9a7",
        "colab": {
          "base_uri": "https://localhost:8080/",
          "height": 1000
        }
      },
      "source": [
        "importances.head(60)"
      ],
      "execution_count": 0,
      "outputs": [
        {
          "output_type": "execute_result",
          "data": {
            "text/html": [
              "<div>\n",
              "<style scoped>\n",
              "    .dataframe tbody tr th:only-of-type {\n",
              "        vertical-align: middle;\n",
              "    }\n",
              "\n",
              "    .dataframe tbody tr th {\n",
              "        vertical-align: top;\n",
              "    }\n",
              "\n",
              "    .dataframe thead th {\n",
              "        text-align: right;\n",
              "    }\n",
              "</style>\n",
              "<table border=\"1\" class=\"dataframe\">\n",
              "  <thead>\n",
              "    <tr style=\"text-align: right;\">\n",
              "      <th></th>\n",
              "      <th>importance</th>\n",
              "    </tr>\n",
              "    <tr>\n",
              "      <th>feature</th>\n",
              "      <th></th>\n",
              "    </tr>\n",
              "  </thead>\n",
              "  <tbody>\n",
              "    <tr>\n",
              "      <th>LotArea</th>\n",
              "      <td>0.047</td>\n",
              "    </tr>\n",
              "    <tr>\n",
              "      <th>GrLivArea</th>\n",
              "      <td>0.047</td>\n",
              "    </tr>\n",
              "    <tr>\n",
              "      <th>TotalBsmtSF</th>\n",
              "      <td>0.046</td>\n",
              "    </tr>\n",
              "    <tr>\n",
              "      <th>1stFlrSF</th>\n",
              "      <td>0.046</td>\n",
              "    </tr>\n",
              "    <tr>\n",
              "      <th>GarageArea</th>\n",
              "      <td>0.045</td>\n",
              "    </tr>\n",
              "    <tr>\n",
              "      <th>YearBuilt</th>\n",
              "      <td>0.043</td>\n",
              "    </tr>\n",
              "    <tr>\n",
              "      <th>LotFrontage</th>\n",
              "      <td>0.041</td>\n",
              "    </tr>\n",
              "    <tr>\n",
              "      <th>YearRemodAdd</th>\n",
              "      <td>0.039</td>\n",
              "    </tr>\n",
              "    <tr>\n",
              "      <th>OpenPorchSF</th>\n",
              "      <td>0.033</td>\n",
              "    </tr>\n",
              "    <tr>\n",
              "      <th>WoodDeckSF</th>\n",
              "      <td>0.032</td>\n",
              "    </tr>\n",
              "    <tr>\n",
              "      <th>YrSold</th>\n",
              "      <td>0.031</td>\n",
              "    </tr>\n",
              "    <tr>\n",
              "      <th>TotRmsAbvGrd</th>\n",
              "      <td>0.029</td>\n",
              "    </tr>\n",
              "    <tr>\n",
              "      <th>MasVnrArea</th>\n",
              "      <td>0.028</td>\n",
              "    </tr>\n",
              "    <tr>\n",
              "      <th>2ndFlrSF</th>\n",
              "      <td>0.023</td>\n",
              "    </tr>\n",
              "    <tr>\n",
              "      <th>OverallCond</th>\n",
              "      <td>0.021</td>\n",
              "    </tr>\n",
              "    <tr>\n",
              "      <th>BedroomAbvGr</th>\n",
              "      <td>0.018</td>\n",
              "    </tr>\n",
              "    <tr>\n",
              "      <th>MSSubClass</th>\n",
              "      <td>0.016</td>\n",
              "    </tr>\n",
              "    <tr>\n",
              "      <th>BsmtFullBath</th>\n",
              "      <td>0.015</td>\n",
              "    </tr>\n",
              "    <tr>\n",
              "      <th>EnclosedPorch</th>\n",
              "      <td>0.012</td>\n",
              "    </tr>\n",
              "    <tr>\n",
              "      <th>LotShape_IR1</th>\n",
              "      <td>0.011</td>\n",
              "    </tr>\n",
              "    <tr>\n",
              "      <th>LotConfig_Inside</th>\n",
              "      <td>0.011</td>\n",
              "    </tr>\n",
              "    <tr>\n",
              "      <th>LotShape_Reg</th>\n",
              "      <td>0.011</td>\n",
              "    </tr>\n",
              "    <tr>\n",
              "      <th>LotConfig_Corner</th>\n",
              "      <td>0.010</td>\n",
              "    </tr>\n",
              "    <tr>\n",
              "      <th>HalfBath</th>\n",
              "      <td>0.010</td>\n",
              "    </tr>\n",
              "    <tr>\n",
              "      <th>GarageType_Attchd</th>\n",
              "      <td>0.009</td>\n",
              "    </tr>\n",
              "    <tr>\n",
              "      <th>RoofStyle_Gable</th>\n",
              "      <td>0.009</td>\n",
              "    </tr>\n",
              "    <tr>\n",
              "      <th>RoofStyle_Hip</th>\n",
              "      <td>0.009</td>\n",
              "    </tr>\n",
              "    <tr>\n",
              "      <th>ScreenPorch</th>\n",
              "      <td>0.009</td>\n",
              "    </tr>\n",
              "    <tr>\n",
              "      <th>HouseStyle_1Story</th>\n",
              "      <td>0.008</td>\n",
              "    </tr>\n",
              "    <tr>\n",
              "      <th>Foundation_CBlock</th>\n",
              "      <td>0.008</td>\n",
              "    </tr>\n",
              "    <tr>\n",
              "      <th>SaleCondition_Normal</th>\n",
              "      <td>0.008</td>\n",
              "    </tr>\n",
              "    <tr>\n",
              "      <th>BsmtQual_Gd</th>\n",
              "      <td>0.008</td>\n",
              "    </tr>\n",
              "    <tr>\n",
              "      <th>FullBath</th>\n",
              "      <td>0.008</td>\n",
              "    </tr>\n",
              "    <tr>\n",
              "      <th>BsmtQual_TA</th>\n",
              "      <td>0.007</td>\n",
              "    </tr>\n",
              "    <tr>\n",
              "      <th>Neighborhood_NAmes</th>\n",
              "      <td>0.007</td>\n",
              "    </tr>\n",
              "    <tr>\n",
              "      <th>HouseStyle_2Story</th>\n",
              "      <td>0.007</td>\n",
              "    </tr>\n",
              "    <tr>\n",
              "      <th>GarageType_Detchd</th>\n",
              "      <td>0.007</td>\n",
              "    </tr>\n",
              "    <tr>\n",
              "      <th>Foundation_PConc</th>\n",
              "      <td>0.007</td>\n",
              "    </tr>\n",
              "    <tr>\n",
              "      <th>Neighborhood_CollgCr</th>\n",
              "      <td>0.006</td>\n",
              "    </tr>\n",
              "    <tr>\n",
              "      <th>SaleType_WD</th>\n",
              "      <td>0.006</td>\n",
              "    </tr>\n",
              "    <tr>\n",
              "      <th>MSZoning_RL</th>\n",
              "      <td>0.006</td>\n",
              "    </tr>\n",
              "    <tr>\n",
              "      <th>MSZoning_RM</th>\n",
              "      <td>0.005</td>\n",
              "    </tr>\n",
              "    <tr>\n",
              "      <th>LotConfig_CulDSac</th>\n",
              "      <td>0.005</td>\n",
              "    </tr>\n",
              "    <tr>\n",
              "      <th>MiscVal</th>\n",
              "      <td>0.005</td>\n",
              "    </tr>\n",
              "    <tr>\n",
              "      <th>Neighborhood_Edwards</th>\n",
              "      <td>0.005</td>\n",
              "    </tr>\n",
              "    <tr>\n",
              "      <th>SaleCondition_Abnorml</th>\n",
              "      <td>0.005</td>\n",
              "    </tr>\n",
              "    <tr>\n",
              "      <th>BsmtHalfBath</th>\n",
              "      <td>0.005</td>\n",
              "    </tr>\n",
              "    <tr>\n",
              "      <th>LandContour_Lvl</th>\n",
              "      <td>0.005</td>\n",
              "    </tr>\n",
              "    <tr>\n",
              "      <th>Electrical_SBrkr</th>\n",
              "      <td>0.004</td>\n",
              "    </tr>\n",
              "    <tr>\n",
              "      <th>Neighborhood_NWAmes</th>\n",
              "      <td>0.004</td>\n",
              "    </tr>\n",
              "    <tr>\n",
              "      <th>Neighborhood_Sawyer</th>\n",
              "      <td>0.004</td>\n",
              "    </tr>\n",
              "    <tr>\n",
              "      <th>Neighborhood_SawyerW</th>\n",
              "      <td>0.004</td>\n",
              "    </tr>\n",
              "    <tr>\n",
              "      <th>BldgType_1Fam</th>\n",
              "      <td>0.004</td>\n",
              "    </tr>\n",
              "    <tr>\n",
              "      <th>Neighborhood_OldTown</th>\n",
              "      <td>0.004</td>\n",
              "    </tr>\n",
              "    <tr>\n",
              "      <th>HouseStyle_1.5Fin</th>\n",
              "      <td>0.004</td>\n",
              "    </tr>\n",
              "    <tr>\n",
              "      <th>Electrical_FuseA</th>\n",
              "      <td>0.004</td>\n",
              "    </tr>\n",
              "    <tr>\n",
              "      <th>Foundation_BrkTil</th>\n",
              "      <td>0.004</td>\n",
              "    </tr>\n",
              "    <tr>\n",
              "      <th>GarageType_BuiltIn</th>\n",
              "      <td>0.004</td>\n",
              "    </tr>\n",
              "    <tr>\n",
              "      <th>LotConfig_FR2</th>\n",
              "      <td>0.004</td>\n",
              "    </tr>\n",
              "    <tr>\n",
              "      <th>BsmtQual_Ex</th>\n",
              "      <td>0.004</td>\n",
              "    </tr>\n",
              "  </tbody>\n",
              "</table>\n",
              "</div>"
            ],
            "text/plain": [
              "                       importance\n",
              "feature                          \n",
              "LotArea                     0.047\n",
              "GrLivArea                   0.047\n",
              "TotalBsmtSF                 0.046\n",
              "1stFlrSF                    0.046\n",
              "GarageArea                  0.045\n",
              "YearBuilt                   0.043\n",
              "LotFrontage                 0.041\n",
              "YearRemodAdd                0.039\n",
              "OpenPorchSF                 0.033\n",
              "WoodDeckSF                  0.032\n",
              "YrSold                      0.031\n",
              "TotRmsAbvGrd                0.029\n",
              "MasVnrArea                  0.028\n",
              "2ndFlrSF                    0.023\n",
              "OverallCond                 0.021\n",
              "BedroomAbvGr                0.018\n",
              "MSSubClass                  0.016\n",
              "BsmtFullBath                0.015\n",
              "EnclosedPorch               0.012\n",
              "LotShape_IR1                0.011\n",
              "LotConfig_Inside            0.011\n",
              "LotShape_Reg                0.011\n",
              "LotConfig_Corner            0.010\n",
              "HalfBath                    0.010\n",
              "GarageType_Attchd           0.009\n",
              "RoofStyle_Gable             0.009\n",
              "RoofStyle_Hip               0.009\n",
              "ScreenPorch                 0.009\n",
              "HouseStyle_1Story           0.008\n",
              "Foundation_CBlock           0.008\n",
              "SaleCondition_Normal        0.008\n",
              "BsmtQual_Gd                 0.008\n",
              "FullBath                    0.008\n",
              "BsmtQual_TA                 0.007\n",
              "Neighborhood_NAmes          0.007\n",
              "HouseStyle_2Story           0.007\n",
              "GarageType_Detchd           0.007\n",
              "Foundation_PConc            0.007\n",
              "Neighborhood_CollgCr        0.006\n",
              "SaleType_WD                 0.006\n",
              "MSZoning_RL                 0.006\n",
              "MSZoning_RM                 0.005\n",
              "LotConfig_CulDSac           0.005\n",
              "MiscVal                     0.005\n",
              "Neighborhood_Edwards        0.005\n",
              "SaleCondition_Abnorml       0.005\n",
              "BsmtHalfBath                0.005\n",
              "LandContour_Lvl             0.005\n",
              "Electrical_SBrkr            0.004\n",
              "Neighborhood_NWAmes         0.004\n",
              "Neighborhood_Sawyer         0.004\n",
              "Neighborhood_SawyerW        0.004\n",
              "BldgType_1Fam               0.004\n",
              "Neighborhood_OldTown        0.004\n",
              "HouseStyle_1.5Fin           0.004\n",
              "Electrical_FuseA            0.004\n",
              "Foundation_BrkTil           0.004\n",
              "GarageType_BuiltIn          0.004\n",
              "LotConfig_FR2               0.004\n",
              "BsmtQual_Ex                 0.004"
            ]
          },
          "metadata": {
            "tags": []
          },
          "execution_count": 155
        }
      ]
    },
    {
      "cell_type": "markdown",
      "metadata": {
        "id": "eh9b6ymmS7UT",
        "colab_type": "text"
      },
      "source": [
        "#Train with NN- Deep learning"
      ]
    },
    {
      "cell_type": "code",
      "metadata": {
        "id": "2L35oXfNnQUU",
        "colab_type": "code",
        "colab": {}
      },
      "source": [
        "import keras\n",
        "from keras import models, layers, regularizers, Sequential"
      ],
      "execution_count": 0,
      "outputs": []
    },
    {
      "cell_type": "code",
      "metadata": {
        "id": "E3FmVwNsotJt",
        "colab_type": "code",
        "colab": {}
      },
      "source": [
        "model= models.Sequential()\n",
        "model.add(layers.Dense(256, activation='relu', input_shape = (final_X_train.shape[1],)))\n",
        "# model.add(layer=.Dropout(0.2))\n",
        "model.add(layers.Dense(256, activation='relu'))\n",
        "model.add(layers.Dense(1))"
      ],
      "execution_count": 0,
      "outputs": []
    },
    {
      "cell_type": "code",
      "metadata": {
        "id": "15MONnNisl_C",
        "colab_type": "code",
        "colab": {}
      },
      "source": [
        "optimizer = keras.optimizers.RMSprop(0.001)"
      ],
      "execution_count": 0,
      "outputs": []
    },
    {
      "cell_type": "code",
      "metadata": {
        "id": "evqQC49Lsw6Q",
        "colab_type": "code",
        "colab": {}
      },
      "source": [
        "model.compile(optimizer = optimizer,\n",
        "              loss ='mae',\n",
        "              metrics= ['mae', 'mse'])"
      ],
      "execution_count": 0,
      "outputs": []
    },
    {
      "cell_type": "code",
      "metadata": {
        "id": "ne88W8XOtH8O",
        "colab_type": "code",
        "outputId": "2d42f695-cbfd-4ea5-b7a3-acbc8795743b",
        "colab": {
          "base_uri": "https://localhost:8080/",
          "height": 255
        }
      },
      "source": [
        "model.summary()"
      ],
      "execution_count": 0,
      "outputs": [
        {
          "output_type": "stream",
          "text": [
            "Model: \"sequential_1\"\n",
            "_________________________________________________________________\n",
            "Layer (type)                 Output Shape              Param #   \n",
            "=================================================================\n",
            "dense_1 (Dense)              (None, 256)               36096     \n",
            "_________________________________________________________________\n",
            "dense_2 (Dense)              (None, 256)               65792     \n",
            "_________________________________________________________________\n",
            "dense_3 (Dense)              (None, 1)                 257       \n",
            "=================================================================\n",
            "Total params: 102,145\n",
            "Trainable params: 102,145\n",
            "Non-trainable params: 0\n",
            "_________________________________________________________________\n"
          ],
          "name": "stdout"
        }
      ]
    },
    {
      "cell_type": "code",
      "metadata": {
        "id": "i-BOTZuAtKUK",
        "colab_type": "code",
        "outputId": "c627e007-9404-4475-cd3e-553a428df89d",
        "colab": {
          "base_uri": "https://localhost:8080/",
          "height": 1000
        }
      },
      "source": [
        "model_fit = model.fit(final_X_train, train_y,\n",
        "                      epochs = 350,\n",
        "                      batch_size=5,\n",
        "                      )"
      ],
      "execution_count": 0,
      "outputs": [
        {
          "output_type": "stream",
          "text": [
            "Epoch 1/350\n",
            "1460/1460 [==============================] - 0s 308us/step - loss: 15368.1372 - mae: 15368.1357 - mse: 853259328.0000\n",
            "Epoch 2/350\n",
            "1460/1460 [==============================] - 0s 295us/step - loss: 15296.3060 - mae: 15296.3066 - mse: 851213696.0000\n",
            "Epoch 3/350\n",
            "1460/1460 [==============================] - 0s 315us/step - loss: 15296.5059 - mae: 15296.5000 - mse: 845389632.0000\n",
            "Epoch 4/350\n",
            "1460/1460 [==============================] - 0s 337us/step - loss: 15308.6807 - mae: 15308.6729 - mse: 846350144.0000\n",
            "Epoch 5/350\n",
            "1460/1460 [==============================] - 0s 321us/step - loss: 15260.5328 - mae: 15260.5342 - mse: 844401088.0000\n",
            "Epoch 6/350\n",
            "1460/1460 [==============================] - 0s 297us/step - loss: 15288.4626 - mae: 15288.4619 - mse: 845117760.0000\n",
            "Epoch 7/350\n",
            "1460/1460 [==============================] - 0s 297us/step - loss: 15297.3172 - mae: 15297.3223 - mse: 849457856.0000\n",
            "Epoch 8/350\n",
            "1460/1460 [==============================] - 0s 289us/step - loss: 15249.4795 - mae: 15249.4766 - mse: 848248768.0000\n",
            "Epoch 9/350\n",
            "1460/1460 [==============================] - 0s 324us/step - loss: 15239.1857 - mae: 15239.1846 - mse: 847427072.0000\n",
            "Epoch 10/350\n",
            "1460/1460 [==============================] - 0s 297us/step - loss: 15251.6292 - mae: 15251.6289 - mse: 845115712.0000\n",
            "Epoch 11/350\n",
            "1460/1460 [==============================] - 0s 295us/step - loss: 15188.0461 - mae: 15188.0469 - mse: 846356416.0000\n",
            "Epoch 12/350\n",
            "1460/1460 [==============================] - 0s 304us/step - loss: 15202.0899 - mae: 15202.0840 - mse: 846775232.0000\n",
            "Epoch 13/350\n",
            "1460/1460 [==============================] - 0s 291us/step - loss: 15195.6369 - mae: 15195.6367 - mse: 842623808.0000\n",
            "Epoch 14/350\n",
            "1460/1460 [==============================] - 0s 293us/step - loss: 15148.5108 - mae: 15148.5098 - mse: 835358464.0000\n",
            "Epoch 15/350\n",
            "1460/1460 [==============================] - 0s 296us/step - loss: 15126.0645 - mae: 15126.0635 - mse: 837596416.0000\n",
            "Epoch 16/350\n",
            "1460/1460 [==============================] - 0s 301us/step - loss: 15140.6347 - mae: 15140.6338 - mse: 830797568.0000\n",
            "Epoch 17/350\n",
            "1460/1460 [==============================] - 0s 296us/step - loss: 15117.9933 - mae: 15117.9932 - mse: 835501248.0000\n",
            "Epoch 18/350\n",
            "1460/1460 [==============================] - 0s 289us/step - loss: 15118.6222 - mae: 15118.6191 - mse: 829152768.0000\n",
            "Epoch 19/350\n",
            "1460/1460 [==============================] - 0s 298us/step - loss: 15043.9548 - mae: 15043.9561 - mse: 830292800.0000\n",
            "Epoch 20/350\n",
            "1460/1460 [==============================] - 0s 291us/step - loss: 15042.3599 - mae: 15042.3604 - mse: 829289856.0000\n",
            "Epoch 21/350\n",
            "1460/1460 [==============================] - 0s 298us/step - loss: 15063.7511 - mae: 15063.7520 - mse: 824741120.0000\n",
            "Epoch 22/350\n",
            "1460/1460 [==============================] - 0s 330us/step - loss: 15004.8354 - mae: 15004.8398 - mse: 826882688.0000\n",
            "Epoch 23/350\n",
            "1460/1460 [==============================] - 0s 330us/step - loss: 15032.9072 - mae: 15032.9043 - mse: 832787392.0000\n",
            "Epoch 24/350\n",
            "1460/1460 [==============================] - 0s 298us/step - loss: 14994.4874 - mae: 14994.4922 - mse: 830650368.0000\n",
            "Epoch 25/350\n",
            "1460/1460 [==============================] - 0s 332us/step - loss: 14974.7159 - mae: 14974.7256 - mse: 819338624.0000\n",
            "Epoch 26/350\n",
            "1460/1460 [==============================] - 0s 295us/step - loss: 14959.0273 - mae: 14959.0215 - mse: 825632768.0000\n",
            "Epoch 27/350\n",
            "1460/1460 [==============================] - 0s 285us/step - loss: 14964.0277 - mae: 14964.0244 - mse: 817980864.0000\n",
            "Epoch 28/350\n",
            "1460/1460 [==============================] - 0s 322us/step - loss: 14913.1105 - mae: 14913.1064 - mse: 816729856.0000\n",
            "Epoch 29/350\n",
            "1460/1460 [==============================] - 0s 306us/step - loss: 14895.5624 - mae: 14895.5605 - mse: 822158336.0000\n",
            "Epoch 30/350\n",
            "1460/1460 [==============================] - 0s 312us/step - loss: 14952.4854 - mae: 14952.4902 - mse: 818419392.0000\n",
            "Epoch 31/350\n",
            "1460/1460 [==============================] - 0s 322us/step - loss: 14885.1160 - mae: 14885.1201 - mse: 817987584.0000\n",
            "Epoch 32/350\n",
            "1460/1460 [==============================] - 0s 310us/step - loss: 14904.7137 - mae: 14904.7168 - mse: 817715008.0000\n",
            "Epoch 33/350\n",
            "1460/1460 [==============================] - 0s 289us/step - loss: 14902.7430 - mae: 14902.7451 - mse: 818309888.0000\n",
            "Epoch 34/350\n",
            "1460/1460 [==============================] - 0s 290us/step - loss: 14845.6978 - mae: 14845.6982 - mse: 821023360.0000\n",
            "Epoch 35/350\n",
            "1460/1460 [==============================] - 0s 338us/step - loss: 14799.5637 - mae: 14799.5586 - mse: 808681984.0000\n",
            "Epoch 36/350\n",
            "1460/1460 [==============================] - 0s 321us/step - loss: 14836.0850 - mae: 14836.0850 - mse: 816478272.0000\n",
            "Epoch 37/350\n",
            "1460/1460 [==============================] - 0s 329us/step - loss: 14808.7216 - mae: 14808.7256 - mse: 811631744.0000\n",
            "Epoch 38/350\n",
            "1460/1460 [==============================] - 0s 327us/step - loss: 14784.1891 - mae: 14784.1875 - mse: 810866304.0000\n",
            "Epoch 39/350\n",
            "1460/1460 [==============================] - 0s 302us/step - loss: 14742.8961 - mae: 14742.9014 - mse: 808966144.0000\n",
            "Epoch 40/350\n",
            "1460/1460 [==============================] - 0s 333us/step - loss: 14728.6927 - mae: 14728.6875 - mse: 808235200.0000\n",
            "Epoch 41/350\n",
            "1460/1460 [==============================] - 0s 284us/step - loss: 14772.6205 - mae: 14772.6201 - mse: 811744512.0000\n",
            "Epoch 42/350\n",
            "1460/1460 [==============================] - 0s 284us/step - loss: 14735.2600 - mae: 14735.2646 - mse: 808554368.0000\n",
            "Epoch 43/350\n",
            "1460/1460 [==============================] - 0s 292us/step - loss: 14724.3754 - mae: 14724.3711 - mse: 799411008.0000\n",
            "Epoch 44/350\n",
            "1460/1460 [==============================] - 0s 330us/step - loss: 14704.8985 - mae: 14704.8945 - mse: 806945664.0000\n",
            "Epoch 45/350\n",
            "1460/1460 [==============================] - 0s 308us/step - loss: 14608.0629 - mae: 14608.0674 - mse: 800643136.0000\n",
            "Epoch 46/350\n",
            "1460/1460 [==============================] - 0s 297us/step - loss: 14698.1003 - mae: 14698.0986 - mse: 806163520.0000\n",
            "Epoch 47/350\n",
            "1460/1460 [==============================] - 0s 278us/step - loss: 14693.3339 - mae: 14693.3301 - mse: 813621568.0000\n",
            "Epoch 48/350\n",
            "1460/1460 [==============================] - 0s 294us/step - loss: 14628.9281 - mae: 14628.9258 - mse: 804044736.0000\n",
            "Epoch 49/350\n",
            "1460/1460 [==============================] - 0s 287us/step - loss: 14638.1242 - mae: 14638.1250 - mse: 798190848.0000\n",
            "Epoch 50/350\n",
            "1460/1460 [==============================] - 0s 292us/step - loss: 14603.0199 - mae: 14603.0146 - mse: 797454464.0000\n",
            "Epoch 51/350\n",
            "1460/1460 [==============================] - 0s 292us/step - loss: 14568.2142 - mae: 14568.2119 - mse: 803255744.0000\n",
            "Epoch 52/350\n",
            "1460/1460 [==============================] - 0s 289us/step - loss: 14595.0134 - mae: 14595.0176 - mse: 797845312.0000\n",
            "Epoch 53/350\n",
            "1460/1460 [==============================] - 0s 291us/step - loss: 14581.0409 - mae: 14581.0312 - mse: 797142080.0000\n",
            "Epoch 54/350\n",
            "1460/1460 [==============================] - 0s 290us/step - loss: 14589.3166 - mae: 14589.3105 - mse: 795929344.0000\n",
            "Epoch 55/350\n",
            "1460/1460 [==============================] - 0s 276us/step - loss: 14564.5616 - mae: 14564.5654 - mse: 788500096.0000\n",
            "Epoch 56/350\n",
            "1460/1460 [==============================] - 0s 285us/step - loss: 14483.6300 - mae: 14483.6289 - mse: 792961472.0000\n",
            "Epoch 57/350\n",
            "1460/1460 [==============================] - 0s 280us/step - loss: 14517.6000 - mae: 14517.5996 - mse: 798436288.0000\n",
            "Epoch 58/350\n",
            "1460/1460 [==============================] - 0s 287us/step - loss: 14469.3823 - mae: 14469.3750 - mse: 790713920.0000\n",
            "Epoch 59/350\n",
            "1460/1460 [==============================] - 0s 279us/step - loss: 14501.5419 - mae: 14501.5400 - mse: 790184192.0000\n",
            "Epoch 60/350\n",
            "1460/1460 [==============================] - 0s 281us/step - loss: 14439.8571 - mae: 14439.8525 - mse: 793204800.0000\n",
            "Epoch 61/350\n",
            "1460/1460 [==============================] - 0s 291us/step - loss: 14483.7282 - mae: 14483.7236 - mse: 789335936.0000\n",
            "Epoch 62/350\n",
            "1460/1460 [==============================] - 0s 294us/step - loss: 14451.8064 - mae: 14451.8018 - mse: 782412672.0000\n",
            "Epoch 63/350\n",
            "1460/1460 [==============================] - 0s 324us/step - loss: 14376.5229 - mae: 14376.5234 - mse: 787708992.0000\n",
            "Epoch 64/350\n",
            "1460/1460 [==============================] - 0s 306us/step - loss: 14395.8150 - mae: 14395.8193 - mse: 785273792.0000\n",
            "Epoch 65/350\n",
            "1460/1460 [==============================] - 0s 287us/step - loss: 14409.5723 - mae: 14409.5713 - mse: 785158912.0000\n",
            "Epoch 66/350\n",
            "1460/1460 [==============================] - 0s 286us/step - loss: 14287.9036 - mae: 14287.9111 - mse: 776829184.0000\n",
            "Epoch 67/350\n",
            "1460/1460 [==============================] - 0s 287us/step - loss: 14328.5323 - mae: 14328.5332 - mse: 783642240.0000\n",
            "Epoch 68/350\n",
            "1460/1460 [==============================] - 0s 292us/step - loss: 14340.9361 - mae: 14340.9385 - mse: 784315520.0000\n",
            "Epoch 69/350\n",
            "1460/1460 [==============================] - 0s 287us/step - loss: 14321.5404 - mae: 14321.5400 - mse: 784539776.0000\n",
            "Epoch 70/350\n",
            "1460/1460 [==============================] - 0s 307us/step - loss: 14255.8683 - mae: 14255.8711 - mse: 778128320.0000\n",
            "Epoch 71/350\n",
            "1460/1460 [==============================] - 0s 280us/step - loss: 14316.0714 - mae: 14316.0723 - mse: 781297920.0000\n",
            "Epoch 72/350\n",
            "1460/1460 [==============================] - 0s 290us/step - loss: 14251.2562 - mae: 14251.2539 - mse: 773423168.0000\n",
            "Epoch 73/350\n",
            "1460/1460 [==============================] - 0s 287us/step - loss: 14223.5094 - mae: 14223.5098 - mse: 776822464.0000\n",
            "Epoch 74/350\n",
            "1460/1460 [==============================] - 0s 279us/step - loss: 14282.7783 - mae: 14282.7812 - mse: 780814912.0000\n",
            "Epoch 75/350\n",
            "1460/1460 [==============================] - 0s 279us/step - loss: 14237.2209 - mae: 14237.2207 - mse: 771953920.0000\n",
            "Epoch 76/350\n",
            "1460/1460 [==============================] - 0s 295us/step - loss: 14229.5725 - mae: 14229.5713 - mse: 773352640.0000\n",
            "Epoch 77/350\n",
            "1460/1460 [==============================] - 0s 336us/step - loss: 14253.8262 - mae: 14253.8291 - mse: 776132160.0000\n",
            "Epoch 78/350\n",
            "1460/1460 [==============================] - 0s 305us/step - loss: 14173.4611 - mae: 14173.4648 - mse: 772589248.0000\n",
            "Epoch 79/350\n",
            "1460/1460 [==============================] - 0s 289us/step - loss: 14156.6826 - mae: 14156.6875 - mse: 767815552.0000\n",
            "Epoch 80/350\n",
            "1460/1460 [==============================] - 0s 297us/step - loss: 14156.6945 - mae: 14156.6982 - mse: 764990400.0000\n",
            "Epoch 81/350\n",
            "1460/1460 [==============================] - 0s 329us/step - loss: 14147.6858 - mae: 14147.6836 - mse: 767604864.0000\n",
            "Epoch 82/350\n",
            "1460/1460 [==============================] - 0s 325us/step - loss: 14087.8665 - mae: 14087.8701 - mse: 769937664.0000\n",
            "Epoch 83/350\n",
            "1460/1460 [==============================] - 0s 287us/step - loss: 14130.4834 - mae: 14130.4854 - mse: 765489536.0000\n",
            "Epoch 84/350\n",
            "1460/1460 [==============================] - 0s 299us/step - loss: 14103.3463 - mae: 14103.3438 - mse: 765925312.0000\n",
            "Epoch 85/350\n",
            "1460/1460 [==============================] - 0s 317us/step - loss: 14096.1436 - mae: 14096.1426 - mse: 763469824.0000\n",
            "Epoch 86/350\n",
            "1460/1460 [==============================] - 0s 333us/step - loss: 14065.5665 - mae: 14065.5713 - mse: 765526272.0000\n",
            "Epoch 87/350\n",
            "1460/1460 [==============================] - 0s 317us/step - loss: 14054.9569 - mae: 14054.9512 - mse: 760004544.0000\n",
            "Epoch 88/350\n",
            "1460/1460 [==============================] - 1s 344us/step - loss: 14083.3847 - mae: 14083.3848 - mse: 765481024.0000\n",
            "Epoch 89/350\n",
            "1460/1460 [==============================] - 0s 337us/step - loss: 13979.6400 - mae: 13979.6367 - mse: 757373312.0000\n",
            "Epoch 90/350\n",
            "1460/1460 [==============================] - 0s 335us/step - loss: 14002.8498 - mae: 14002.8545 - mse: 763533632.0000\n",
            "Epoch 91/350\n",
            "1460/1460 [==============================] - 0s 309us/step - loss: 14017.0734 - mae: 14017.0713 - mse: 759694592.0000\n",
            "Epoch 92/350\n",
            "1460/1460 [==============================] - 0s 335us/step - loss: 13967.9525 - mae: 13967.9531 - mse: 756875968.0000\n",
            "Epoch 93/350\n",
            "1460/1460 [==============================] - 0s 311us/step - loss: 13968.2293 - mae: 13968.2305 - mse: 757899264.0000\n",
            "Epoch 94/350\n",
            "1460/1460 [==============================] - 0s 295us/step - loss: 13966.0297 - mae: 13966.0352 - mse: 758347328.0000\n",
            "Epoch 95/350\n",
            "1460/1460 [==============================] - 0s 300us/step - loss: 13931.8962 - mae: 13931.8955 - mse: 750307456.0000\n",
            "Epoch 96/350\n",
            "1460/1460 [==============================] - 0s 280us/step - loss: 13904.7377 - mae: 13904.7373 - mse: 755394432.0000\n",
            "Epoch 97/350\n",
            "1460/1460 [==============================] - 0s 294us/step - loss: 13902.6271 - mae: 13902.6270 - mse: 752368768.0000\n",
            "Epoch 98/350\n",
            "1460/1460 [==============================] - 0s 287us/step - loss: 13898.9784 - mae: 13898.9697 - mse: 752028224.0000\n",
            "Epoch 99/350\n",
            "1460/1460 [==============================] - 0s 295us/step - loss: 13877.9633 - mae: 13877.9658 - mse: 749858176.0000\n",
            "Epoch 100/350\n",
            "1460/1460 [==============================] - 0s 291us/step - loss: 13883.0491 - mae: 13883.0420 - mse: 754677184.0000\n",
            "Epoch 101/350\n",
            "1460/1460 [==============================] - 0s 281us/step - loss: 13862.0389 - mae: 13862.0410 - mse: 747612416.0000\n",
            "Epoch 102/350\n",
            "1460/1460 [==============================] - 0s 295us/step - loss: 13827.2209 - mae: 13827.2168 - mse: 739038272.0000\n",
            "Epoch 103/350\n",
            "1460/1460 [==============================] - 0s 322us/step - loss: 13843.5673 - mae: 13843.5605 - mse: 750515776.0000\n",
            "Epoch 104/350\n",
            "1460/1460 [==============================] - 0s 325us/step - loss: 13819.0057 - mae: 13819.0059 - mse: 753442944.0000\n",
            "Epoch 105/350\n",
            "1460/1460 [==============================] - 0s 319us/step - loss: 13793.1564 - mae: 13793.1533 - mse: 744493696.0000\n",
            "Epoch 106/350\n",
            "1460/1460 [==============================] - 1s 345us/step - loss: 13795.6847 - mae: 13795.6836 - mse: 746022528.0000\n",
            "Epoch 107/350\n",
            "1460/1460 [==============================] - 0s 336us/step - loss: 13762.9385 - mae: 13762.9355 - mse: 742376320.0000\n",
            "Epoch 108/350\n",
            "1460/1460 [==============================] - 0s 336us/step - loss: 13758.9821 - mae: 13758.9854 - mse: 743800640.0000\n",
            "Epoch 109/350\n",
            "1460/1460 [==============================] - 0s 295us/step - loss: 13754.6883 - mae: 13754.6895 - mse: 747426944.0000\n",
            "Epoch 110/350\n",
            "1460/1460 [==============================] - 0s 293us/step - loss: 13695.1148 - mae: 13695.1133 - mse: 735559168.0000\n",
            "Epoch 111/350\n",
            "1460/1460 [==============================] - 0s 288us/step - loss: 13687.4346 - mae: 13687.4297 - mse: 741275008.0000\n",
            "Epoch 112/350\n",
            "1460/1460 [==============================] - 0s 286us/step - loss: 13664.5148 - mae: 13664.5039 - mse: 739120768.0000\n",
            "Epoch 113/350\n",
            "1460/1460 [==============================] - 0s 308us/step - loss: 13685.1791 - mae: 13685.1768 - mse: 736794944.0000\n",
            "Epoch 114/350\n",
            "1460/1460 [==============================] - 0s 278us/step - loss: 13665.9130 - mae: 13665.9082 - mse: 736772672.0000\n",
            "Epoch 115/350\n",
            "1460/1460 [==============================] - 0s 280us/step - loss: 13663.6495 - mae: 13663.6465 - mse: 735710592.0000\n",
            "Epoch 116/350\n",
            "1460/1460 [==============================] - 0s 297us/step - loss: 13660.1359 - mae: 13660.1328 - mse: 734006400.0000\n",
            "Epoch 117/350\n",
            "1460/1460 [==============================] - 0s 302us/step - loss: 13640.0700 - mae: 13640.0742 - mse: 734163968.0000\n",
            "Epoch 118/350\n",
            "1460/1460 [==============================] - 0s 294us/step - loss: 13617.7662 - mae: 13617.7656 - mse: 733347008.0000\n",
            "Epoch 119/350\n",
            "1460/1460 [==============================] - 0s 289us/step - loss: 13582.7731 - mae: 13582.7676 - mse: 731967168.0000\n",
            "Epoch 120/350\n",
            "1460/1460 [==============================] - 0s 297us/step - loss: 13554.1400 - mae: 13554.1406 - mse: 728172672.0000\n",
            "Epoch 121/350\n",
            "1460/1460 [==============================] - 0s 291us/step - loss: 13558.3551 - mae: 13558.3564 - mse: 734597248.0000\n",
            "Epoch 122/350\n",
            "1460/1460 [==============================] - 0s 291us/step - loss: 13549.7100 - mae: 13549.7100 - mse: 734651648.0000\n",
            "Epoch 123/350\n",
            "1460/1460 [==============================] - 0s 292us/step - loss: 13528.5145 - mae: 13528.5166 - mse: 730784064.0000\n",
            "Epoch 124/350\n",
            "1460/1460 [==============================] - 0s 289us/step - loss: 13560.9261 - mae: 13560.9316 - mse: 723192128.0000\n",
            "Epoch 125/350\n",
            "1460/1460 [==============================] - 0s 295us/step - loss: 13475.2235 - mae: 13475.2236 - mse: 722539968.0000\n",
            "Epoch 126/350\n",
            "1460/1460 [==============================] - 0s 292us/step - loss: 13488.1141 - mae: 13488.1191 - mse: 722382976.0000\n",
            "Epoch 127/350\n",
            "1460/1460 [==============================] - 0s 302us/step - loss: 13507.0599 - mae: 13507.0635 - mse: 731513536.0000\n",
            "Epoch 128/350\n",
            "1460/1460 [==============================] - 0s 288us/step - loss: 13455.8848 - mae: 13455.8887 - mse: 726756928.0000\n",
            "Epoch 129/350\n",
            "1460/1460 [==============================] - 0s 295us/step - loss: 13444.8845 - mae: 13444.8838 - mse: 726261952.0000\n",
            "Epoch 130/350\n",
            "1460/1460 [==============================] - 0s 284us/step - loss: 13451.1008 - mae: 13451.1045 - mse: 729394240.0000\n",
            "Epoch 131/350\n",
            "1460/1460 [==============================] - 0s 286us/step - loss: 13409.5188 - mae: 13409.5166 - mse: 723465152.0000\n",
            "Epoch 132/350\n",
            "1460/1460 [==============================] - 0s 288us/step - loss: 13342.9740 - mae: 13342.9697 - mse: 716741376.0000\n",
            "Epoch 133/350\n",
            "1460/1460 [==============================] - 0s 289us/step - loss: 13416.6487 - mae: 13416.6504 - mse: 719223552.0000\n",
            "Epoch 134/350\n",
            "1460/1460 [==============================] - 0s 308us/step - loss: 13366.8823 - mae: 13366.8867 - mse: 714774272.0000\n",
            "Epoch 135/350\n",
            "1460/1460 [==============================] - 0s 298us/step - loss: 13349.8335 - mae: 13349.8330 - mse: 724563136.0000\n",
            "Epoch 136/350\n",
            "1460/1460 [==============================] - 0s 296us/step - loss: 13299.7701 - mae: 13299.7764 - mse: 718995968.0000\n",
            "Epoch 137/350\n",
            "1460/1460 [==============================] - 0s 293us/step - loss: 13289.1984 - mae: 13289.1943 - mse: 714664000.0000\n",
            "Epoch 138/350\n",
            "1460/1460 [==============================] - 0s 288us/step - loss: 13338.7205 - mae: 13338.7246 - mse: 719522240.0000\n",
            "Epoch 139/350\n",
            "1460/1460 [==============================] - 0s 292us/step - loss: 13334.8190 - mae: 13334.8232 - mse: 720883328.0000\n",
            "Epoch 140/350\n",
            "1460/1460 [==============================] - 0s 288us/step - loss: 13248.7157 - mae: 13248.7207 - mse: 712038784.0000\n",
            "Epoch 141/350\n",
            "1460/1460 [==============================] - 0s 297us/step - loss: 13265.5592 - mae: 13265.5605 - mse: 718921792.0000\n",
            "Epoch 142/350\n",
            "1460/1460 [==============================] - 0s 284us/step - loss: 13232.9846 - mae: 13232.9902 - mse: 709945856.0000\n",
            "Epoch 143/350\n",
            "1460/1460 [==============================] - 0s 274us/step - loss: 13227.6348 - mae: 13227.6367 - mse: 709139200.0000\n",
            "Epoch 144/350\n",
            "1460/1460 [==============================] - 0s 288us/step - loss: 13240.0810 - mae: 13240.0820 - mse: 721390016.0000\n",
            "Epoch 145/350\n",
            "1460/1460 [==============================] - 0s 284us/step - loss: 13227.9660 - mae: 13227.9648 - mse: 712120640.0000\n",
            "Epoch 146/350\n",
            "1460/1460 [==============================] - 0s 288us/step - loss: 13189.9718 - mae: 13189.9697 - mse: 711533312.0000\n",
            "Epoch 147/350\n",
            "1460/1460 [==============================] - 0s 278us/step - loss: 13165.8012 - mae: 13165.7998 - mse: 714423232.0000\n",
            "Epoch 148/350\n",
            "1460/1460 [==============================] - 0s 280us/step - loss: 13171.5429 - mae: 13171.5469 - mse: 706400896.0000\n",
            "Epoch 149/350\n",
            "1460/1460 [==============================] - 0s 318us/step - loss: 13145.5351 - mae: 13145.5371 - mse: 700788544.0000\n",
            "Epoch 150/350\n",
            "1460/1460 [==============================] - 0s 327us/step - loss: 13182.2015 - mae: 13182.1963 - mse: 712264256.0000\n",
            "Epoch 151/350\n",
            "1460/1460 [==============================] - 0s 290us/step - loss: 13128.0163 - mae: 13128.0166 - mse: 704614144.0000\n",
            "Epoch 152/350\n",
            "1460/1460 [==============================] - 0s 284us/step - loss: 13133.6596 - mae: 13133.6592 - mse: 709502016.0000\n",
            "Epoch 153/350\n",
            "1460/1460 [==============================] - 0s 287us/step - loss: 13074.9183 - mae: 13074.9160 - mse: 707973376.0000\n",
            "Epoch 154/350\n",
            "1460/1460 [==============================] - 0s 276us/step - loss: 13120.0313 - mae: 13120.0342 - mse: 711578944.0000\n",
            "Epoch 155/350\n",
            "1460/1460 [==============================] - 0s 290us/step - loss: 13105.2097 - mae: 13105.2139 - mse: 703248448.0000\n",
            "Epoch 156/350\n",
            "1460/1460 [==============================] - 0s 285us/step - loss: 13095.5610 - mae: 13095.5605 - mse: 707560512.0000\n",
            "Epoch 157/350\n",
            "1460/1460 [==============================] - 0s 285us/step - loss: 13064.9710 - mae: 13064.9658 - mse: 705884416.0000\n",
            "Epoch 158/350\n",
            "1460/1460 [==============================] - 0s 285us/step - loss: 13010.1285 - mae: 13010.1260 - mse: 705432704.0000\n",
            "Epoch 159/350\n",
            "1460/1460 [==============================] - 0s 286us/step - loss: 12969.5242 - mae: 12969.5264 - mse: 700665984.0000\n",
            "Epoch 160/350\n",
            "1460/1460 [==============================] - 0s 290us/step - loss: 13037.8783 - mae: 13037.8740 - mse: 703103296.0000\n",
            "Epoch 161/350\n",
            "1460/1460 [==============================] - 0s 283us/step - loss: 12956.2481 - mae: 12956.2490 - mse: 691292096.0000\n",
            "Epoch 162/350\n",
            "1460/1460 [==============================] - 0s 280us/step - loss: 12976.3528 - mae: 12976.3525 - mse: 704306624.0000\n",
            "Epoch 163/350\n",
            "1460/1460 [==============================] - 0s 295us/step - loss: 12935.8830 - mae: 12935.8818 - mse: 697761088.0000\n",
            "Epoch 164/350\n",
            "1460/1460 [==============================] - 0s 283us/step - loss: 12930.2474 - mae: 12930.2451 - mse: 697176000.0000\n",
            "Epoch 165/350\n",
            "1460/1460 [==============================] - 0s 277us/step - loss: 12894.8685 - mae: 12894.8672 - mse: 694466880.0000\n",
            "Epoch 166/350\n",
            "1460/1460 [==============================] - 0s 272us/step - loss: 12906.2782 - mae: 12906.2783 - mse: 703202112.0000\n",
            "Epoch 167/350\n",
            "1460/1460 [==============================] - 0s 294us/step - loss: 12866.4831 - mae: 12866.4922 - mse: 690549440.0000\n",
            "Epoch 168/350\n",
            "1460/1460 [==============================] - 0s 289us/step - loss: 12881.1179 - mae: 12881.1133 - mse: 696882944.0000\n",
            "Epoch 169/350\n",
            "1460/1460 [==============================] - 0s 283us/step - loss: 12873.4643 - mae: 12873.4668 - mse: 693976384.0000\n",
            "Epoch 170/350\n",
            "1460/1460 [==============================] - 0s 292us/step - loss: 12863.4117 - mae: 12863.4111 - mse: 690989440.0000\n",
            "Epoch 171/350\n",
            "1460/1460 [==============================] - 0s 279us/step - loss: 12847.4383 - mae: 12847.4316 - mse: 693845824.0000\n",
            "Epoch 172/350\n",
            "1460/1460 [==============================] - 0s 284us/step - loss: 12840.4136 - mae: 12840.4111 - mse: 698422528.0000\n",
            "Epoch 173/350\n",
            "1460/1460 [==============================] - 0s 297us/step - loss: 12783.8919 - mae: 12783.8955 - mse: 684940544.0000\n",
            "Epoch 174/350\n",
            "1460/1460 [==============================] - 0s 314us/step - loss: 12790.0320 - mae: 12790.0303 - mse: 688656384.0000\n",
            "Epoch 175/350\n",
            "1460/1460 [==============================] - 0s 280us/step - loss: 12768.9645 - mae: 12768.9619 - mse: 687997760.0000\n",
            "Epoch 176/350\n",
            "1460/1460 [==============================] - 0s 280us/step - loss: 12806.6935 - mae: 12806.6904 - mse: 694025088.0000\n",
            "Epoch 177/350\n",
            "1460/1460 [==============================] - 0s 288us/step - loss: 12804.3536 - mae: 12804.3525 - mse: 697609984.0000\n",
            "Epoch 178/350\n",
            "1460/1460 [==============================] - 0s 276us/step - loss: 12733.5180 - mae: 12733.5137 - mse: 687766080.0000\n",
            "Epoch 179/350\n",
            "1460/1460 [==============================] - 0s 285us/step - loss: 12746.5634 - mae: 12746.5635 - mse: 683280640.0000\n",
            "Epoch 180/350\n",
            "1460/1460 [==============================] - 0s 285us/step - loss: 12683.1138 - mae: 12683.1191 - mse: 692139904.0000\n",
            "Epoch 181/350\n",
            "1460/1460 [==============================] - 0s 317us/step - loss: 12714.0517 - mae: 12714.0508 - mse: 682109568.0000\n",
            "Epoch 182/350\n",
            "1460/1460 [==============================] - 0s 286us/step - loss: 12608.1590 - mae: 12608.1572 - mse: 681461440.0000\n",
            "Epoch 183/350\n",
            "1460/1460 [==============================] - 0s 281us/step - loss: 12654.8375 - mae: 12654.8340 - mse: 681664768.0000\n",
            "Epoch 184/350\n",
            "1460/1460 [==============================] - 0s 300us/step - loss: 12673.6998 - mae: 12673.7041 - mse: 686517760.0000\n",
            "Epoch 185/350\n",
            "1460/1460 [==============================] - 0s 330us/step - loss: 12636.0957 - mae: 12636.0947 - mse: 686821888.0000\n",
            "Epoch 186/350\n",
            "1460/1460 [==============================] - 0s 293us/step - loss: 12578.2989 - mae: 12578.3027 - mse: 680024384.0000\n",
            "Epoch 187/350\n",
            "1460/1460 [==============================] - 0s 288us/step - loss: 12617.0703 - mae: 12617.0742 - mse: 679211200.0000\n",
            "Epoch 188/350\n",
            "1460/1460 [==============================] - 0s 313us/step - loss: 12606.0052 - mae: 12605.9971 - mse: 673522240.0000\n",
            "Epoch 189/350\n",
            "1460/1460 [==============================] - 0s 321us/step - loss: 12570.3443 - mae: 12570.3428 - mse: 678643840.0000\n",
            "Epoch 190/350\n",
            "1460/1460 [==============================] - 0s 319us/step - loss: 12553.4551 - mae: 12553.4531 - mse: 673804544.0000\n",
            "Epoch 191/350\n",
            "1460/1460 [==============================] - 0s 296us/step - loss: 12575.1070 - mae: 12575.1045 - mse: 684448128.0000\n",
            "Epoch 192/350\n",
            "1460/1460 [==============================] - 0s 296us/step - loss: 12509.1692 - mae: 12509.1738 - mse: 684431872.0000\n",
            "Epoch 193/350\n",
            "1460/1460 [==============================] - 0s 284us/step - loss: 12522.0069 - mae: 12522.0107 - mse: 676209280.0000\n",
            "Epoch 194/350\n",
            "1460/1460 [==============================] - 0s 276us/step - loss: 12529.6096 - mae: 12529.6094 - mse: 678767744.0000\n",
            "Epoch 195/350\n",
            "1460/1460 [==============================] - 0s 286us/step - loss: 12509.3949 - mae: 12509.3906 - mse: 683575168.0000\n",
            "Epoch 196/350\n",
            "1460/1460 [==============================] - 0s 276us/step - loss: 12469.2788 - mae: 12469.2725 - mse: 671917696.0000\n",
            "Epoch 197/350\n",
            "1460/1460 [==============================] - 0s 293us/step - loss: 12441.5494 - mae: 12441.5488 - mse: 666645376.0000\n",
            "Epoch 198/350\n",
            "1460/1460 [==============================] - 0s 314us/step - loss: 12482.3047 - mae: 12482.3066 - mse: 676382976.0000\n",
            "Epoch 199/350\n",
            "1460/1460 [==============================] - 0s 321us/step - loss: 12452.3693 - mae: 12452.3740 - mse: 671713088.0000\n",
            "Epoch 200/350\n",
            "1460/1460 [==============================] - 0s 286us/step - loss: 12407.3138 - mae: 12407.3105 - mse: 678032576.0000\n",
            "Epoch 201/350\n",
            "1460/1460 [==============================] - 0s 287us/step - loss: 12416.7086 - mae: 12416.7100 - mse: 671453120.0000\n",
            "Epoch 202/350\n",
            "1460/1460 [==============================] - 0s 287us/step - loss: 12380.6056 - mae: 12380.6064 - mse: 677820928.0000\n",
            "Epoch 203/350\n",
            "1460/1460 [==============================] - 0s 288us/step - loss: 12402.0738 - mae: 12402.0742 - mse: 674188160.0000\n",
            "Epoch 204/350\n",
            "1460/1460 [==============================] - 0s 283us/step - loss: 12336.5860 - mae: 12336.5781 - mse: 670791872.0000\n",
            "Epoch 205/350\n",
            "1460/1460 [==============================] - 0s 298us/step - loss: 12343.2574 - mae: 12343.2549 - mse: 676413696.0000\n",
            "Epoch 206/350\n",
            "1460/1460 [==============================] - 0s 289us/step - loss: 12325.7780 - mae: 12325.7754 - mse: 661117056.0000\n",
            "Epoch 207/350\n",
            "1460/1460 [==============================] - 0s 293us/step - loss: 12323.2064 - mae: 12323.2070 - mse: 669815808.0000\n",
            "Epoch 208/350\n",
            "1460/1460 [==============================] - 0s 291us/step - loss: 12317.2602 - mae: 12317.2578 - mse: 673165120.0000\n",
            "Epoch 209/350\n",
            "1460/1460 [==============================] - 0s 286us/step - loss: 12263.7028 - mae: 12263.7012 - mse: 666925376.0000\n",
            "Epoch 210/350\n",
            "1460/1460 [==============================] - 0s 289us/step - loss: 12302.7693 - mae: 12302.7725 - mse: 666173760.0000\n",
            "Epoch 211/350\n",
            "1460/1460 [==============================] - 0s 284us/step - loss: 12290.7081 - mae: 12290.7119 - mse: 666732096.0000\n",
            "Epoch 212/350\n",
            "1460/1460 [==============================] - 0s 287us/step - loss: 12290.6326 - mae: 12290.6357 - mse: 667320064.0000\n",
            "Epoch 213/350\n",
            "1460/1460 [==============================] - 0s 288us/step - loss: 12199.7965 - mae: 12199.7969 - mse: 662322048.0000\n",
            "Epoch 214/350\n",
            "1460/1460 [==============================] - 0s 285us/step - loss: 12214.3366 - mae: 12214.3379 - mse: 656382784.0000\n",
            "Epoch 215/350\n",
            "1460/1460 [==============================] - 0s 286us/step - loss: 12231.1881 - mae: 12231.1875 - mse: 666751808.0000\n",
            "Epoch 216/350\n",
            "1460/1460 [==============================] - 0s 330us/step - loss: 12174.4807 - mae: 12174.4854 - mse: 663752896.0000\n",
            "Epoch 217/350\n",
            "1460/1460 [==============================] - 0s 285us/step - loss: 12165.3224 - mae: 12165.3193 - mse: 658856128.0000\n",
            "Epoch 218/350\n",
            "1460/1460 [==============================] - 0s 283us/step - loss: 12218.7759 - mae: 12218.7783 - mse: 666832640.0000\n",
            "Epoch 219/350\n",
            "1460/1460 [==============================] - 0s 279us/step - loss: 12119.0742 - mae: 12119.0723 - mse: 659112000.0000\n",
            "Epoch 220/350\n",
            "1460/1460 [==============================] - 0s 307us/step - loss: 12183.2677 - mae: 12183.2686 - mse: 662592960.0000\n",
            "Epoch 221/350\n",
            "1460/1460 [==============================] - 0s 319us/step - loss: 12147.5733 - mae: 12147.5791 - mse: 663374464.0000\n",
            "Epoch 222/350\n",
            "1460/1460 [==============================] - 0s 277us/step - loss: 12130.7941 - mae: 12130.7920 - mse: 657245440.0000\n",
            "Epoch 223/350\n",
            "1460/1460 [==============================] - 0s 308us/step - loss: 12091.7499 - mae: 12091.7490 - mse: 660004736.0000\n",
            "Epoch 224/350\n",
            "1460/1460 [==============================] - 0s 289us/step - loss: 12081.7582 - mae: 12081.7520 - mse: 660771776.0000\n",
            "Epoch 225/350\n",
            "1460/1460 [==============================] - 0s 279us/step - loss: 12082.6895 - mae: 12082.6875 - mse: 656961472.0000\n",
            "Epoch 226/350\n",
            "1460/1460 [==============================] - 0s 289us/step - loss: 12060.2202 - mae: 12060.2236 - mse: 654608576.0000\n",
            "Epoch 227/350\n",
            "1460/1460 [==============================] - 0s 293us/step - loss: 12076.2719 - mae: 12076.2695 - mse: 660675520.0000\n",
            "Epoch 228/350\n",
            "1460/1460 [==============================] - 0s 286us/step - loss: 12023.9001 - mae: 12023.8936 - mse: 656331456.0000\n",
            "Epoch 229/350\n",
            "1460/1460 [==============================] - 0s 286us/step - loss: 12055.6562 - mae: 12055.6602 - mse: 652985216.0000\n",
            "Epoch 230/350\n",
            "1460/1460 [==============================] - 0s 285us/step - loss: 12015.0118 - mae: 12015.0127 - mse: 656128192.0000\n",
            "Epoch 231/350\n",
            "1460/1460 [==============================] - 0s 291us/step - loss: 12003.4661 - mae: 12003.4668 - mse: 651134656.0000\n",
            "Epoch 232/350\n",
            "1460/1460 [==============================] - 0s 290us/step - loss: 12021.7578 - mae: 12021.7559 - mse: 659577344.0000\n",
            "Epoch 233/350\n",
            "1460/1460 [==============================] - 0s 291us/step - loss: 11999.1682 - mae: 11999.1709 - mse: 656533568.0000\n",
            "Epoch 234/350\n",
            "1460/1460 [==============================] - 0s 295us/step - loss: 11930.1800 - mae: 11930.1836 - mse: 652281472.0000\n",
            "Epoch 235/350\n",
            "1460/1460 [==============================] - 0s 283us/step - loss: 11974.3637 - mae: 11974.3633 - mse: 651249344.0000\n",
            "Epoch 236/350\n",
            "1460/1460 [==============================] - 0s 280us/step - loss: 11963.8216 - mae: 11963.8203 - mse: 656212800.0000\n",
            "Epoch 237/350\n",
            "1460/1460 [==============================] - 0s 293us/step - loss: 11914.9430 - mae: 11914.9434 - mse: 653779712.0000\n",
            "Epoch 238/350\n",
            "1460/1460 [==============================] - 0s 281us/step - loss: 11923.9013 - mae: 11923.9072 - mse: 649027584.0000\n",
            "Epoch 239/350\n",
            "1460/1460 [==============================] - 0s 289us/step - loss: 11911.8343 - mae: 11911.8311 - mse: 654904320.0000\n",
            "Epoch 240/350\n",
            "1460/1460 [==============================] - 0s 299us/step - loss: 11914.8885 - mae: 11914.8838 - mse: 647503296.0000\n",
            "Epoch 241/350\n",
            "1460/1460 [==============================] - 0s 296us/step - loss: 11891.0961 - mae: 11891.0977 - mse: 655913536.0000\n",
            "Epoch 242/350\n",
            "1460/1460 [==============================] - 0s 304us/step - loss: 11919.6474 - mae: 11919.6465 - mse: 648408576.0000\n",
            "Epoch 243/350\n",
            "1460/1460 [==============================] - 0s 285us/step - loss: 11873.4447 - mae: 11873.4463 - mse: 652266944.0000\n",
            "Epoch 244/350\n",
            "1460/1460 [==============================] - 0s 293us/step - loss: 11834.2297 - mae: 11834.2275 - mse: 649037568.0000\n",
            "Epoch 245/350\n",
            "1460/1460 [==============================] - 0s 319us/step - loss: 11856.4056 - mae: 11856.4053 - mse: 648144320.0000\n",
            "Epoch 246/350\n",
            "1460/1460 [==============================] - 0s 329us/step - loss: 11849.5735 - mae: 11849.5752 - mse: 650101248.0000\n",
            "Epoch 247/350\n",
            "1460/1460 [==============================] - 0s 282us/step - loss: 11848.1543 - mae: 11848.1553 - mse: 650295296.0000\n",
            "Epoch 248/350\n",
            "1460/1460 [==============================] - 0s 291us/step - loss: 11836.0951 - mae: 11836.0928 - mse: 646689344.0000\n",
            "Epoch 249/350\n",
            "1460/1460 [==============================] - 0s 294us/step - loss: 11779.7582 - mae: 11779.7559 - mse: 631463680.0000\n",
            "Epoch 250/350\n",
            "1460/1460 [==============================] - 0s 302us/step - loss: 11777.6476 - mae: 11777.6494 - mse: 648068608.0000\n",
            "Epoch 251/350\n",
            "1460/1460 [==============================] - 0s 310us/step - loss: 11802.5131 - mae: 11802.5195 - mse: 638535872.0000\n",
            "Epoch 252/350\n",
            "1460/1460 [==============================] - 0s 288us/step - loss: 11750.1516 - mae: 11750.1455 - mse: 641463168.0000\n",
            "Epoch 253/350\n",
            "1460/1460 [==============================] - 0s 293us/step - loss: 11745.8248 - mae: 11745.8232 - mse: 641380736.0000\n",
            "Epoch 254/350\n",
            "1460/1460 [==============================] - 0s 298us/step - loss: 11777.4966 - mae: 11777.5000 - mse: 643883712.0000\n",
            "Epoch 255/350\n",
            "1460/1460 [==============================] - 0s 286us/step - loss: 11719.1871 - mae: 11719.1846 - mse: 638989120.0000\n",
            "Epoch 256/350\n",
            "1460/1460 [==============================] - 0s 288us/step - loss: 11717.6221 - mae: 11717.6230 - mse: 639575040.0000\n",
            "Epoch 257/350\n",
            "1460/1460 [==============================] - 0s 293us/step - loss: 11747.9924 - mae: 11747.9932 - mse: 643566272.0000\n",
            "Epoch 258/350\n",
            "1460/1460 [==============================] - 0s 302us/step - loss: 11697.5985 - mae: 11697.6045 - mse: 640791872.0000\n",
            "Epoch 259/350\n",
            "1460/1460 [==============================] - 0s 289us/step - loss: 11730.8313 - mae: 11730.8271 - mse: 640113664.0000\n",
            "Epoch 260/350\n",
            "1460/1460 [==============================] - 0s 292us/step - loss: 11659.3352 - mae: 11659.3340 - mse: 639048512.0000\n",
            "Epoch 261/350\n",
            "1460/1460 [==============================] - 0s 284us/step - loss: 11669.6317 - mae: 11669.6318 - mse: 638689920.0000\n",
            "Epoch 262/350\n",
            "1460/1460 [==============================] - 0s 288us/step - loss: 11621.1387 - mae: 11621.1357 - mse: 632008000.0000\n",
            "Epoch 263/350\n",
            "1460/1460 [==============================] - 0s 290us/step - loss: 11630.7828 - mae: 11630.7812 - mse: 634408576.0000\n",
            "Epoch 264/350\n",
            "1460/1460 [==============================] - 0s 297us/step - loss: 11650.4611 - mae: 11650.4590 - mse: 627588544.0000\n",
            "Epoch 265/350\n",
            "1460/1460 [==============================] - 0s 304us/step - loss: 11656.7727 - mae: 11656.7725 - mse: 642057664.0000\n",
            "Epoch 266/350\n",
            "1460/1460 [==============================] - 0s 295us/step - loss: 11607.6834 - mae: 11607.6846 - mse: 630000384.0000\n",
            "Epoch 267/350\n",
            "1460/1460 [==============================] - 0s 325us/step - loss: 11588.0056 - mae: 11588.0059 - mse: 631497472.0000\n",
            "Epoch 268/350\n",
            "1460/1460 [==============================] - 0s 287us/step - loss: 11569.2527 - mae: 11569.2549 - mse: 632012160.0000\n",
            "Epoch 269/350\n",
            "1460/1460 [==============================] - 0s 289us/step - loss: 11585.6588 - mae: 11585.6572 - mse: 637268864.0000\n",
            "Epoch 270/350\n",
            "1460/1460 [==============================] - 0s 289us/step - loss: 11572.0493 - mae: 11572.0469 - mse: 630573056.0000\n",
            "Epoch 271/350\n",
            "1460/1460 [==============================] - 0s 296us/step - loss: 11560.4744 - mae: 11560.4785 - mse: 627542720.0000\n",
            "Epoch 272/350\n",
            "1460/1460 [==============================] - 0s 293us/step - loss: 11528.1436 - mae: 11528.1387 - mse: 625248576.0000\n",
            "Epoch 273/350\n",
            "1460/1460 [==============================] - 0s 303us/step - loss: 11530.1508 - mae: 11530.1504 - mse: 629516800.0000\n",
            "Epoch 274/350\n",
            "1460/1460 [==============================] - 0s 297us/step - loss: 11519.9860 - mae: 11519.9893 - mse: 634909504.0000\n",
            "Epoch 275/350\n",
            "1460/1460 [==============================] - 0s 282us/step - loss: 11512.4907 - mae: 11512.4932 - mse: 630804032.0000\n",
            "Epoch 276/350\n",
            "1460/1460 [==============================] - 0s 305us/step - loss: 11465.8718 - mae: 11465.8750 - mse: 628619072.0000\n",
            "Epoch 277/350\n",
            "1460/1460 [==============================] - 0s 291us/step - loss: 11487.9598 - mae: 11487.9619 - mse: 627974720.0000\n",
            "Epoch 278/350\n",
            "1460/1460 [==============================] - 0s 289us/step - loss: 11486.4944 - mae: 11486.4922 - mse: 630721856.0000\n",
            "Epoch 279/350\n",
            "1460/1460 [==============================] - 0s 285us/step - loss: 11441.8733 - mae: 11441.8760 - mse: 625008000.0000\n",
            "Epoch 280/350\n",
            "1460/1460 [==============================] - 0s 278us/step - loss: 11439.6894 - mae: 11439.6924 - mse: 628253248.0000\n",
            "Epoch 281/350\n",
            "1460/1460 [==============================] - 0s 289us/step - loss: 11394.6637 - mae: 11394.6641 - mse: 630553664.0000\n",
            "Epoch 282/350\n",
            "1460/1460 [==============================] - 0s 285us/step - loss: 11450.6708 - mae: 11450.6768 - mse: 628540544.0000\n",
            "Epoch 283/350\n",
            "1460/1460 [==============================] - 0s 326us/step - loss: 11415.3546 - mae: 11415.3555 - mse: 625761344.0000\n",
            "Epoch 284/350\n",
            "1460/1460 [==============================] - 0s 290us/step - loss: 11410.2020 - mae: 11410.2012 - mse: 625913984.0000\n",
            "Epoch 285/350\n",
            "1460/1460 [==============================] - 0s 283us/step - loss: 11429.1409 - mae: 11429.1416 - mse: 625227072.0000\n",
            "Epoch 286/350\n",
            "1460/1460 [==============================] - 0s 299us/step - loss: 11381.8672 - mae: 11381.8711 - mse: 621380992.0000\n",
            "Epoch 287/350\n",
            "1460/1460 [==============================] - 0s 287us/step - loss: 11377.3863 - mae: 11377.3887 - mse: 626243968.0000\n",
            "Epoch 288/350\n",
            "1460/1460 [==============================] - 0s 305us/step - loss: 11416.2294 - mae: 11416.2256 - mse: 622556800.0000\n",
            "Epoch 289/350\n",
            "1460/1460 [==============================] - 0s 316us/step - loss: 11351.4128 - mae: 11351.4111 - mse: 624866752.0000\n",
            "Epoch 290/350\n",
            "1460/1460 [==============================] - 0s 330us/step - loss: 11324.7143 - mae: 11324.7129 - mse: 618541312.0000\n",
            "Epoch 291/350\n",
            "1460/1460 [==============================] - 0s 287us/step - loss: 11325.3719 - mae: 11325.3701 - mse: 621439744.0000\n",
            "Epoch 292/350\n",
            "1460/1460 [==============================] - 0s 299us/step - loss: 11349.0418 - mae: 11349.0449 - mse: 614169152.0000\n",
            "Epoch 293/350\n",
            "1460/1460 [==============================] - 0s 291us/step - loss: 11305.9667 - mae: 11305.9658 - mse: 616798592.0000\n",
            "Epoch 294/350\n",
            "1460/1460 [==============================] - 0s 288us/step - loss: 11329.9897 - mae: 11329.9912 - mse: 623127360.0000\n",
            "Epoch 295/350\n",
            "1460/1460 [==============================] - 0s 297us/step - loss: 11302.0592 - mae: 11302.0586 - mse: 616941760.0000\n",
            "Epoch 296/350\n",
            "1460/1460 [==============================] - 0s 321us/step - loss: 11268.5294 - mae: 11268.5332 - mse: 622164864.0000\n",
            "Epoch 297/350\n",
            "1460/1460 [==============================] - 0s 314us/step - loss: 11256.5850 - mae: 11256.5791 - mse: 617412352.0000\n",
            "Epoch 298/350\n",
            "1460/1460 [==============================] - 0s 288us/step - loss: 11258.9037 - mae: 11258.9053 - mse: 618103296.0000\n",
            "Epoch 299/350\n",
            "1460/1460 [==============================] - 0s 290us/step - loss: 11229.4021 - mae: 11229.4004 - mse: 615910720.0000\n",
            "Epoch 300/350\n",
            "1460/1460 [==============================] - 0s 276us/step - loss: 11239.2156 - mae: 11239.2178 - mse: 620311808.0000\n",
            "Epoch 301/350\n",
            "1460/1460 [==============================] - 0s 272us/step - loss: 11270.9104 - mae: 11270.9092 - mse: 616610688.0000\n",
            "Epoch 302/350\n",
            "1460/1460 [==============================] - 0s 287us/step - loss: 11265.5988 - mae: 11265.5977 - mse: 619357120.0000\n",
            "Epoch 303/350\n",
            "1460/1460 [==============================] - 0s 312us/step - loss: 11208.1975 - mae: 11208.1963 - mse: 615883968.0000\n",
            "Epoch 304/350\n",
            "1460/1460 [==============================] - 0s 330us/step - loss: 11214.1661 - mae: 11214.1680 - mse: 614682432.0000\n",
            "Epoch 305/350\n",
            "1460/1460 [==============================] - 0s 274us/step - loss: 11200.2934 - mae: 11200.2949 - mse: 613285824.0000\n",
            "Epoch 306/350\n",
            "1460/1460 [==============================] - 0s 284us/step - loss: 11174.4315 - mae: 11174.4297 - mse: 609682432.0000\n",
            "Epoch 307/350\n",
            "1460/1460 [==============================] - 0s 287us/step - loss: 11191.6922 - mae: 11191.6875 - mse: 611386816.0000\n",
            "Epoch 308/350\n",
            "1460/1460 [==============================] - 0s 291us/step - loss: 11167.1484 - mae: 11167.1494 - mse: 607110720.0000\n",
            "Epoch 309/350\n",
            "1460/1460 [==============================] - 0s 296us/step - loss: 11118.5795 - mae: 11118.5840 - mse: 612058560.0000\n",
            "Epoch 310/350\n",
            "1460/1460 [==============================] - 0s 294us/step - loss: 11077.1486 - mae: 11077.1504 - mse: 605558720.0000\n",
            "Epoch 311/350\n",
            "1460/1460 [==============================] - 0s 300us/step - loss: 11135.1550 - mae: 11135.1553 - mse: 611407232.0000\n",
            "Epoch 312/350\n",
            "1460/1460 [==============================] - 0s 300us/step - loss: 11130.8022 - mae: 11130.7988 - mse: 612443904.0000\n",
            "Epoch 313/350\n",
            "1460/1460 [==============================] - 0s 283us/step - loss: 11117.1666 - mae: 11117.1660 - mse: 612941568.0000\n",
            "Epoch 314/350\n",
            "1460/1460 [==============================] - 0s 299us/step - loss: 11052.5874 - mae: 11052.5928 - mse: 606512768.0000\n",
            "Epoch 315/350\n",
            "1460/1460 [==============================] - 0s 285us/step - loss: 11136.7028 - mae: 11136.7021 - mse: 608877312.0000\n",
            "Epoch 316/350\n",
            "1460/1460 [==============================] - 0s 291us/step - loss: 11110.7611 - mae: 11110.7617 - mse: 610296064.0000\n",
            "Epoch 317/350\n",
            "1460/1460 [==============================] - 0s 286us/step - loss: 11062.9205 - mae: 11062.9189 - mse: 606002432.0000\n",
            "Epoch 318/350\n",
            "1460/1460 [==============================] - 0s 292us/step - loss: 11093.8132 - mae: 11093.8115 - mse: 602944064.0000\n",
            "Epoch 319/350\n",
            "1460/1460 [==============================] - 0s 314us/step - loss: 11054.3208 - mae: 11054.3174 - mse: 604766976.0000\n",
            "Epoch 320/350\n",
            "1460/1460 [==============================] - 0s 329us/step - loss: 11046.0201 - mae: 11046.0176 - mse: 605527424.0000\n",
            "Epoch 321/350\n",
            "1460/1460 [==============================] - 0s 282us/step - loss: 10995.9784 - mae: 10995.9805 - mse: 604501120.0000\n",
            "Epoch 322/350\n",
            "1460/1460 [==============================] - 0s 287us/step - loss: 11033.9879 - mae: 11033.9893 - mse: 603593408.0000\n",
            "Epoch 323/350\n",
            "1460/1460 [==============================] - 0s 283us/step - loss: 11018.2881 - mae: 11018.2910 - mse: 599789184.0000\n",
            "Epoch 324/350\n",
            "1460/1460 [==============================] - 0s 279us/step - loss: 10963.3228 - mae: 10963.3203 - mse: 597055424.0000\n",
            "Epoch 325/350\n",
            "1460/1460 [==============================] - 0s 286us/step - loss: 10994.0823 - mae: 10994.0791 - mse: 600790016.0000\n",
            "Epoch 326/350\n",
            "1460/1460 [==============================] - 0s 287us/step - loss: 10977.4908 - mae: 10977.4922 - mse: 595208256.0000\n",
            "Epoch 327/350\n",
            "1460/1460 [==============================] - 0s 290us/step - loss: 10973.8941 - mae: 10973.8916 - mse: 597672128.0000\n",
            "Epoch 328/350\n",
            "1460/1460 [==============================] - 0s 293us/step - loss: 10959.2471 - mae: 10959.2490 - mse: 596573440.0000\n",
            "Epoch 329/350\n",
            "1460/1460 [==============================] - 0s 282us/step - loss: 10987.8248 - mae: 10987.8271 - mse: 596717056.0000\n",
            "Epoch 330/350\n",
            "1460/1460 [==============================] - 0s 288us/step - loss: 10924.3615 - mae: 10924.3594 - mse: 594923072.0000\n",
            "Epoch 331/350\n",
            "1460/1460 [==============================] - 0s 313us/step - loss: 10930.8258 - mae: 10930.8271 - mse: 600026816.0000\n",
            "Epoch 332/350\n",
            "1460/1460 [==============================] - 0s 316us/step - loss: 10916.5638 - mae: 10916.5635 - mse: 598184384.0000\n",
            "Epoch 333/350\n",
            "1460/1460 [==============================] - 0s 284us/step - loss: 10947.0426 - mae: 10947.0420 - mse: 604634880.0000\n",
            "Epoch 334/350\n",
            "1460/1460 [==============================] - 0s 284us/step - loss: 10916.0199 - mae: 10916.0215 - mse: 600261952.0000\n",
            "Epoch 335/350\n",
            "1460/1460 [==============================] - 0s 300us/step - loss: 10879.3633 - mae: 10879.3652 - mse: 595363072.0000\n",
            "Epoch 336/350\n",
            "1460/1460 [==============================] - 0s 298us/step - loss: 10859.8587 - mae: 10859.8545 - mse: 595901248.0000\n",
            "Epoch 337/350\n",
            "1460/1460 [==============================] - 0s 290us/step - loss: 10870.1569 - mae: 10870.1572 - mse: 594141632.0000\n",
            "Epoch 338/350\n",
            "1460/1460 [==============================] - 0s 280us/step - loss: 10855.2138 - mae: 10855.2158 - mse: 596847232.0000\n",
            "Epoch 339/350\n",
            "1460/1460 [==============================] - 0s 301us/step - loss: 10854.0581 - mae: 10854.0605 - mse: 592905216.0000\n",
            "Epoch 340/350\n",
            "1460/1460 [==============================] - 0s 286us/step - loss: 10827.6995 - mae: 10827.7021 - mse: 590023616.0000\n",
            "Epoch 341/350\n",
            "1460/1460 [==============================] - 0s 289us/step - loss: 10825.2085 - mae: 10825.2070 - mse: 593107968.0000\n",
            "Epoch 342/350\n",
            "1460/1460 [==============================] - 0s 292us/step - loss: 10826.7824 - mae: 10826.7803 - mse: 596192000.0000\n",
            "Epoch 343/350\n",
            "1460/1460 [==============================] - 0s 286us/step - loss: 10791.2431 - mae: 10791.2422 - mse: 591666944.0000\n",
            "Epoch 344/350\n",
            "1460/1460 [==============================] - 0s 300us/step - loss: 10776.2895 - mae: 10776.2920 - mse: 591599872.0000\n",
            "Epoch 345/350\n",
            "1460/1460 [==============================] - 0s 283us/step - loss: 10730.6203 - mae: 10730.6221 - mse: 581676608.0000\n",
            "Epoch 346/350\n",
            "1460/1460 [==============================] - 0s 282us/step - loss: 10812.7829 - mae: 10812.7812 - mse: 592517376.0000\n",
            "Epoch 347/350\n",
            "1460/1460 [==============================] - 0s 297us/step - loss: 10806.7031 - mae: 10806.7041 - mse: 595193792.0000\n",
            "Epoch 348/350\n",
            "1460/1460 [==============================] - 0s 280us/step - loss: 10754.6565 - mae: 10754.6562 - mse: 592677312.0000\n",
            "Epoch 349/350\n",
            "1460/1460 [==============================] - 0s 291us/step - loss: 10718.8802 - mae: 10718.8818 - mse: 588655808.0000\n",
            "Epoch 350/350\n",
            "1460/1460 [==============================] - 0s 283us/step - loss: 10740.0417 - mae: 10740.0420 - mse: 585382656.0000\n"
          ],
          "name": "stdout"
        }
      ]
    },
    {
      "cell_type": "code",
      "metadata": {
        "id": "GeflyxSlt9Uz",
        "colab_type": "code",
        "outputId": "dd023d85-45ee-4198-9caa-6d06cba408d9",
        "colab": {
          "base_uri": "https://localhost:8080/",
          "height": 730
        }
      },
      "source": [
        "import matplotlib.pyplot as plt\n",
        "\n",
        "mae = model_fit.history['mae']\n",
        "val_mae = model_fit.history['mse']\n",
        "\n",
        "epochs = range(1, len(mae) + 1)\n",
        "\n",
        "plt.figure(figsize=(12, 12))\n",
        "plt.plot(epochs[20:], mae[20:], 'bo', label='Training mae')\n",
        "plt.plot(epochs[20:], val_mae[20:], 'b', label='Validation mae')\n",
        "plt.title('Training and validation mae')\n",
        "plt.grid(True)\n",
        "plt.xlabel('Epochs')\n",
        "plt.ylabel('Loss')\n",
        "plt.legend()\n",
        "plt.show()"
      ],
      "execution_count": 0,
      "outputs": [
        {
          "output_type": "display_data",
          "data": {
            "image/png": "[encoded data removed]",
            "text/plain": [
              "<Figure size 864x864 with 1 Axes>"
            ]
          },
          "metadata": {
            "tags": [],
            "needs_background": "light"
          }
        }
      ]
    },
    {
      "cell_type": "code",
      "metadata": {
        "id": "MfnGPLW72ReW",
        "colab_type": "code",
        "colab": {}
      },
      "source": [
        "from sklearn.metrics import mean_absolute_error, mean_squared_error, r2_score"
      ],
      "execution_count": 0,
      "outputs": []
    },
    {
      "cell_type": "code",
      "metadata": {
        "id": "-QQDMT8V13jb",
        "colab_type": "code",
        "outputId": "701f989c-2450-44cc-fb8b-b1e36839b8d3",
        "colab": {
          "base_uri": "https://localhost:8080/",
          "height": 68
        }
      },
      "source": [
        "y_pred = model.predict(final_X_train)\n",
        "\n",
        "print ('R square accuracy:', r2_score(train_y, y_pred))\n",
        "print('Mean absolute error:', mean_absolute_error(train_y, y_pred))\n",
        "print ('Mean squared error:', mean_squared_error(train_y, y_pred))"
      ],
      "execution_count": 0,
      "outputs": [
        {
          "output_type": "stream",
          "text": [
            "R square accuracy: 0.9077904401024173\n",
            "Mean absolute error: 10578.825829409247\n",
            "Mean squared error: 581546199.8221571\n"
          ],
          "name": "stdout"
        }
      ]
    },
    {
      "cell_type": "code",
      "metadata": {
        "id": "YEomIfiP5J7U",
        "colab_type": "code",
        "outputId": "0dbc7a73-1b7e-4004-ce93-da3103e263da",
        "colab": {
          "base_uri": "https://localhost:8080/",
          "height": 187
        }
      },
      "source": [
        "y_pred[0:10]"
      ],
      "execution_count": 0,
      "outputs": [
        {
          "output_type": "execute_result",
          "data": {
            "text/plain": [
              "array([[213573.44],\n",
              "       [181471.1 ],\n",
              "       [224383.52],\n",
              "       [159299.25],\n",
              "       [269920.72],\n",
              "       [145699.75],\n",
              "       [297880.12],\n",
              "       [208674.6 ],\n",
              "       [128690.91],\n",
              "       [119246.19]], dtype=float32)"
            ]
          },
          "metadata": {
            "tags": []
          },
          "execution_count": 47
        }
      ]
    },
    {
      "cell_type": "code",
      "metadata": {
        "id": "KqOKwsJZ63N9",
        "colab_type": "code",
        "colab": {}
      },
      "source": [
        "y_test_predict = model.predict(final_X_test)\n"
      ],
      "execution_count": 0,
      "outputs": []
    },
    {
      "cell_type": "markdown",
      "metadata": {
        "id": "ZZkNc6EOWf47",
        "colab_type": "text"
      },
      "source": [
        "# Exporting results to the csv"
      ]
    },
    {
      "cell_type": "code",
      "metadata": {
        "id": "sfIld-cfMrnW",
        "colab_type": "code",
        "colab": {}
      },
      "source": [
        "sub = pd.DataFrame()\n",
        "sub['Id'] = test_ID\n",
        "sub['SalePrice'] = y_test_predict\n",
        "sub.to_csv('/content/gdrive/My Drive/Kaggel Projects/house-prices-advanced-regression-techniques/With NN/submission_House Prices with NN.csv',index=False)"
      ],
      "execution_count": 0,
      "outputs": []
    },
    {
      "cell_type": "code",
      "metadata": {
        "id": "NsYuA5YjaWGa",
        "colab_type": "code",
        "colab": {}
      },
      "source": [
        ""
      ],
      "execution_count": 0,
      "outputs": []
    }
  ]
}